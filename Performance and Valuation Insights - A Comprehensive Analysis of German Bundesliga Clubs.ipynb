{
 "cells": [
  {
   "cell_type": "markdown",
   "id": "805bad10",
   "metadata": {},
   "source": [
    "# Performance and Valuation Insights: A Comprehensive Analysis of German Bundesliga Clubs with FC Bayern Munich as a Case Study (Season 2023/2024)\n",
    "\n",
    "This portfolio project provides an in-depth analysis of FC Bayern Munich's performance and market dynamics during the Bundesliga 2023-2024 season. Leveraging Python for data manipulation and analysis, this project highlights key trends and derives actionable insights.\n",
    "\n",
    "### Author: Moritz Philipp Haaf, BSc MA\n",
    "\n",
    "### Contact Information:\n",
    "- **Email:** moritz_haaf@outlook.com\n",
    "- **GitHub:** [itzmore-mph/itzmore-mph-portfolio](https://github.com/itzmore-mph/itzmore-mph-portfolio)"
   ]
  },
  {
   "cell_type": "markdown",
   "id": "849ff2e4",
   "metadata": {},
   "source": [
    "## 1. Initial Setup\n",
    "Import libraries for SQL, data manipulation, visualization, and regex."
   ]
  },
  {
   "cell_type": "code",
   "execution_count": null,
   "id": "f0ec72f0",
   "metadata": {},
   "outputs": [],
   "source": [
    "import os\n",
    "import re\n",
    "import pandas as pd\n",
    "import numpy as np\n",
    "import seaborn as sns\n",
    "import matplotlib.pyplot as plt\n",
    "import plotly.express as px\n",
    "import plotly.graph_objects as go\n",
    "import duckdb\n",
    "import warnings\n",
    "warnings.filterwarnings('ignore')\n",
    "print(\"Working directory:\", os.getcwd())"
   ]
  },
  {
   "cell_type": "markdown",
   "id": "272eb5cb",
   "metadata": {},
   "source": [
    "## 2. Load Data with DuckDB\n",
    "Register CSV files as DuckDB views for SQL querying."
   ]
  },
  {
   "cell_type": "code",
   "execution_count": null,
   "id": "7c8124c1",
   "metadata": {},
   "outputs": [],
   "source": [
    "data_path = './Raw-Data_CSV_Football-Analysis_German-Bundesliga/'\n",
    "\n",
    "con = duckdb.connect()\n",
    "tables = ['players','player_valuations','game_events','appearances','clubs','club_games','competitions','games']\n",
    "for table in tables:\n",
    "    con.execute(f\"CREATE VIEW {table} AS SELECT * FROM read_csv_auto('{data_path}{table}.csv')\")\n",
    "\n",
    "print('DuckDB views created:', tables)"
   ]
  },
  {
   "cell_type": "markdown",
   "id": "a8af1178",
   "metadata": {},
   "source": [
    "## 3. SQL Data Exploration\n",
    "Retrieve average market values and total goals/xG per player."
   ]
  },
  {
   "cell_type": "code",
   "execution_count": null,
   "id": "e19414ce",
   "metadata": {},
   "outputs": [],
   "source": [
    "# 3.1 Average Market Value per Player\n",
    "avg_val_query = '''\n",
    "SELECT p.player_name AS player, AVG(pv.market_value) AS avg_value\n",
    "FROM players p\n",
    "JOIN player_valuations pv USING(player_id)\n",
    "GROUP BY player\n",
    "ORDER BY avg_value DESC\n",
    "LIMIT 10;\n",
    "'''\n",
    "avg_val = con.execute(avg_val_query).df()\n",
    "avg_val"
   ]
  },
  {
   "cell_type": "markdown",
   "id": "eeeaa38b",
   "metadata": {},
   "source": [
    "**Interpretation:** These top 10 players by average market value highlight the most valuable talents over the season."
   ]
  },
  {
   "cell_type": "code",
   "execution_count": null,
   "id": "aee199f8",
   "metadata": {},
   "outputs": [],
   "source": [
    "# 3.2 Total Goals and xG per Player\n",
    "player_stats_query = '''\n",
    "SELECT p.player_name AS player,\n",
    "       SUM(ge.goals) AS total_goals,\n",
    "       SUM(ge.xG)    AS total_xG\n",
    "FROM players p\n",
    "JOIN game_events ge USING(player_id)\n",
    "GROUP BY player\n",
    "ORDER BY total_goals DESC\n",
    "LIMIT 10;\n",
    "'''\n",
    "player_stats = con.execute(player_stats_query).df()\n",
    "player_stats"
   ]
  },
  {
   "cell_type": "markdown",
   "id": "95fceb42",
   "metadata": {},
   "source": [
    "**Interpretation:** Shows which players delivered the highest goal output and how it relates to their expected goals."
   ]
  },
  {
   "cell_type": "markdown",
   "id": "0fde454f",
   "metadata": {},
   "source": [
    "## 4. Load & Preprocess Data with Pandas\n",
    "Standardize column names, parse dates, validate keys, and create Bayern subset."
   ]
  },
  {
   "cell_type": "code",
   "execution_count": null,
   "id": "fc319b41",
   "metadata": {},
   "outputs": [],
   "source": [
    "# 4.1 Load CSVs with Pandas\n",
    "appearances       = pd.read_csv(data_path + 'appearances.csv')\n",
    "club_games        = pd.read_csv(data_path + 'club_games.csv')\n",
    "clubs             = pd.read_csv(data_path + 'clubs.csv')\n",
    "competitions      = pd.read_csv(data_path + 'competitions.csv')\n",
    "game_events       = pd.read_csv(data_path + 'game_events.csv')\n",
    "games             = pd.read_csv(data_path + 'games.csv')\n",
    "player_valuations = pd.read_csv(data_path + 'player_valuations.csv')\n",
    "players           = pd.read_csv(data_path + 'players.csv')\n"
   ]
  },
  {
   "cell_type": "code",
   "execution_count": null,
   "id": "25e41466",
   "metadata": {},
   "outputs": [],
   "source": [
    "# 4.2 Helper: snake_case conversion\n",
    "def to_snake(col: str) -> str:\n",
    "    s1 = re.sub('(.)([A-Z][a-z]+)', r'\\1_\\2', col)\n",
    "    s2 = re.sub('([a-z0-9])([A-Z])',      r'\\1_\\2', s1)\n",
    "    s3 = s2.replace(' ', '_').lower()\n",
    "    return re.sub(r'__+','_', s3)\n",
    "\n",
    "for df in [players, player_valuations, game_events, appearances, clubs, club_games, competitions, games]:\n",
    "    df.columns = [to_snake(c) for c in df.columns]"
   ]
  },
  {
   "cell_type": "markdown",
   "id": "2b6fb3ac",
   "metadata": {},
   "source": [
    "**Interpretation:** Consistent snake_case naming ensures code clarity and easier maintenance."
   ]
  },
  {
   "cell_type": "code",
   "execution_count": null,
   "id": "6bd457f5",
   "metadata": {},
   "outputs": [],
   "source": [
    "# 4.3 Parse datetime columns\n",
    "player_valuations['date'] = pd.to_datetime(player_valuations['date'], errors='coerce')\n",
    "games['date']             = pd.to_datetime(games['date'], errors='coerce')"
   ]
  },
  {
   "cell_type": "markdown",
   "id": "6c28f0aa",
   "metadata": {},
   "source": [
    "**Note:** Any invalid date strings become `NaT` for easy detection."
   ]
  },
  {
   "cell_type": "code",
   "execution_count": null,
   "id": "5cb08482",
   "metadata": {},
   "outputs": [],
   "source": [
    "# 4.4 Cleaning & Validation\n",
    "def prepare_data(df):\n",
    "    df = df.copy()\n",
    "    df.fillna(0, inplace=True)\n",
    "    if 'date' in df.columns:\n",
    "        df['date'] = pd.to_datetime(df['date'], errors='coerce')\n",
    "    return df\n",
    "\n",
    "# Apply to main tables\n",
    "players           = prepare_data(players)\n",
    "player_valuations = prepare_data(player_valuations)\n",
    "game_events       = prepare_data(game_events)\n",
    "\n",
    "# 4.5 Key validation: find orphan player_ids\n",
    "ev_ids    = set(game_events['player_id'])\n",
    "pl_ids    = set(players['player_id'])\n",
    "orphans   = ev_ids - pl_ids\n",
    "if orphans:\n",
    "    print(f\"{len(orphans)} orphan player_id(s) in game_events:\", list(orphans)[:10])\n"
   ]
  },
  {
   "cell_type": "markdown",
   "id": "624a9870",
   "metadata": {},
   "source": [
    "**Interpretation:** Early detection of mismatched keys prevents silent data errors."
   ]
  },
  {
   "cell_type": "code",
   "execution_count": null,
   "id": "08122d49",
   "metadata": {},
   "outputs": [],
   "source": [
    "# 4.6 Subset for FC Bayern Munich (club_id = 27)\n",
    "bayern_stats = game_events[game_events['club_id'] == 27]\n",
    "bayern_stats = prepare_data(bayern_stats)\n",
    "print(f'Bayern events: {len(bayern_stats)} rows')"
   ]
  },
  {
   "cell_type": "markdown",
   "id": "7130ac04",
   "metadata": {},
   "source": [
    "**Interpretation:** Working on the Bayern subset allows focused analysis on the case study."
   ]
  },
  {
   "cell_type": "markdown",
   "id": "a7fdb72d",
   "metadata": {},
   "source": [
    "## 5. Exploratory Data Analysis (EDA)\n",
    "Visualize key relationships in the Bayern subset."
   ]
  },
  {
   "cell_type": "markdown",
   "id": "aaac29b0",
   "metadata": {},
   "source": [
    "### 5.1 Correlation: xG vs Goals"
   ]
  },
  {
   "cell_type": "code",
   "execution_count": null,
   "id": "9bed5762",
   "metadata": {},
   "outputs": [],
   "source": [
    "# Drop any missing for clarity\n",
    "clean_evt = bayern_stats.dropna(subset=['xg','goals'])\n",
    "plt.figure(figsize=(10,6))\n",
    "sns.scatterplot(data=clean_evt, x='xg', y='goals')\n",
    "plt.title('FC Bayern: Expected Goals (xG) vs Actual Goals')\n",
    "plt.xlabel('xG')\n",
    "plt.ylabel('Goals')\n",
    "plt.show()"
   ]
  },
  {
   "cell_type": "markdown",
   "id": "6e4dce85",
   "metadata": {},
   "source": [
    "**Interpretation:** Points above the diagonal indicate matches where players outperformed their expected goals."
   ]
  },
  {
   "cell_type": "markdown",
   "id": "116db884",
   "metadata": {},
   "source": [
    "## 6. Performance Analysis"
   ]
  },
  {
   "cell_type": "markdown",
   "id": "61821f8f",
   "metadata": {},
   "source": [
    "### 6.1 Match Result Distribution"
   ]
  },
  {
   "cell_type": "code",
   "execution_count": null,
   "id": "292896d7",
   "metadata": {},
   "outputs": [],
   "source": [
    "def performance_analysis(df):\n",
    "    counts = df['result'].value_counts().reset_index()\n",
    "    counts.columns = ['result','count']\n",
    "    plt.figure(figsize=(8,5))\n",
    "    sns.barplot(x='result', y='count', data=counts)\n",
    "    plt.title('FC Bayern Match Results (W/D/L)')\n",
    "    plt.xlabel('Result')\n",
    "    plt.ylabel('Matches')\n",
    "    plt.show()\n",
    "\n",
    "performance_analysis(bayern_stats)"
   ]
  },
  {
   "cell_type": "markdown",
   "id": "3830c571",
   "metadata": {},
   "source": [
    "**Interpretation:** The win/draw/loss distribution highlights overall season performance strengths."
   ]
  },
  {
   "cell_type": "markdown",
   "id": "55244652",
   "metadata": {},
   "source": [
    "## 7. Market Value Analysis"
   ]
  },
  {
   "cell_type": "markdown",
   "id": "97829d65",
   "metadata": {},
   "source": [
    "### 7.1 Market Value Trend"
   ]
  },
  {
   "cell_type": "code",
   "execution_count": null,
   "id": "3f9e81ef",
   "metadata": {},
   "outputs": [],
   "source": [
    "fig = px.line(player_valuations, x='date', y='market_value', title='Market Value Trend of All Players', \n",
    "                 labels={'market_value':'Market Value','date':'Date'})\n",
    "fig.update_layout(xaxis_title='Date', yaxis_title='Market Value')\n",
    "fig.show()"
   ]
  },
  {
   "cell_type": "markdown",
   "id": "1bc6a873",
   "metadata": {},
   "source": [
    "**Interpretation:** Visualizes the investment dynamics and how player valuations evolve over time."
   ]
  },
  {
   "cell_type": "markdown",
   "id": "f7b088b7",
   "metadata": {},
   "source": [
    "## 8. Predictive Modeling"
   ]
  },
  {
   "cell_type": "markdown",
   "id": "c8a0ca61",
   "metadata": {},
   "source": [
    "### 8.1 Linear Regression to Predict Market Value"
   ]
  },
  {
   "cell_type": "code",
   "execution_count": null,
   "id": "456c8022",
   "metadata": {},
   "outputs": [],
   "source": [
    "from sklearn.model_selection import cross_val_score\n",
    "from sklearn.linear_model import Ridge\n",
    "\n",
    "X = player_valuations[['goals','assists','minutes_played']]\n",
    "y = player_valuations['market_value']\n",
    "\n",
    "model = Ridge(alpha=1.0)\n",
    "scores = cross_val_score(model, X, y, cv=5, scoring='r2')\n",
    "print(f'5-Fold CV R² scores: {scores.round(2)}')\n",
    "print(f'Average R²: {scores.mean():.2f}')"
   ]
  },
  {
   "cell_type": "markdown",
   "id": "0efbc418",
   "metadata": {},
   "source": [
    "**Interpretation:** Regularized regression and cross-validation provide more robust estimates of predictive power."
   ]
  },
  {
   "cell_type": "markdown",
   "id": "b7c6e238",
   "metadata": {},
   "source": [
    "## 9. Expected Goals & Cumulative Analysis"
   ]
  },
  {
   "cell_type": "markdown",
   "id": "19fd6c49",
   "metadata": {},
   "source": [
    "### 9.1 Cumulative xG vs Goals Over Season"
   ]
  },
  {
   "cell_type": "code",
   "execution_count": null,
   "id": "bb9fe482",
   "metadata": {},
   "outputs": [],
   "source": [
    "# Merge xG and goals in player_valuations for cumulative over time\n",
    "player_valuations['xg']   = np.nan  # ensure column exists\n",
    "player_valuations['goals'] = np.nan\n",
    "# fill from global game_events\n",
    "agg = game_events.groupby('date').agg({'xg':'sum','goals':'sum'}).reset_index()\n",
    "pv_time = player_valuations.merge(agg, on='date', how='left').fillna(0)\n",
    "pv_time = pv_time.sort_values('date')\n",
    "\n",
    "pv_time['cum_xg']    = pv_time['xg'].cumsum()\n",
    "pv_time['cum_goals'] = pv_time['goals'].cumsum()\n",
    "\n",
    "plt.figure(figsize=(12,7))\n",
    "plt.plot(pv_time['date'], pv_time['cum_xg'],    label='Cumulative xG')\n",
    "plt.plot(pv_time['date'], pv_time['cum_goals'], label='Cumulative Goals')\n",
    "plt.legend()\n",
    "plt.title('Cumulative xG vs Actual Goals Over Season')\n",
    "plt.xlabel('Date')\n",
    "plt.ylabel('Total')\n",
    "plt.show()"
   ]
  },
  {
   "cell_type": "markdown",
   "id": "dd4c224d",
   "metadata": {},
   "source": [
    "**Interpretation:** Tracking cumulative metrics reveals overall scoring efficiency trends."
   ]
  },
  {
   "cell_type": "markdown",
   "id": "48ce4396",
   "metadata": {},
   "source": [
    "## Conclusion\n",
    "**Key Takeaways:**\n",
    "- Bayern’s players often outperformed xG, indicating strong finishing.\n",
    "- Season win percentage underscores dominance in match results.\n",
    "- Market-value trends align with performance peaks.\n",
    "- A regularized model achieves stable predictive performance (avg R²).  \n",
    "\n",
    "**Future Directions:**\n",
    "- Incorporate additional features (e.g., assists types, distance covered).\n",
    "- Build an interactive dashboard (Streamlit or Voilà).\n",
    "- Extend analysis to other clubs for comparative insights."
   ]
  }
 ],
 "metadata": {
  "language_info": {
   "name": "python"
  }
 },
 "nbformat": 4,
 "nbformat_minor": 5
}
