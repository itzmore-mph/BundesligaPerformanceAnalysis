{
 "cells": [
  {
   "cell_type": "markdown",
   "id": "c0f278f1",
   "metadata": {},
   "source": [
    "# Performance and Valuation Insights: A Comprehensive Analysis of German Bundesliga Clubs with FC Bayern Munich as a Case Study (Season 2023/2024)\n",
    "\n",
    "This portfolio project provides an in-depth analysis of FC Bayern Munich's performance and market dynamics during the Bundesliga 2023-2024 season. Leveraging Python for data manipulation and analysis, this project highlights key trends and derives actionable insights.\n",
    "\n",
    "### Author: Moritz Philipp Haaf, BSc (WU) MA\n",
    "\n",
    "### Contact Information:\n",
    "- **Email:** moritz_haaf@outlook.com\n",
    "- **GitHub:** [itzmore-mph/itzmore-mph-portfolio](https://github.com/itzmore-mph/itzmore-mph-portfolio)"
   ]
  },
  {
   "cell_type": "markdown",
   "id": "1ec5d61a",
   "metadata": {},
   "source": [
    "## 1. Initial Setup\n",
    "All necessary libraries are imported at the beginning of the notebook to ensure clarity and optimize performance."
   ]
  },
  {
   "cell_type": "code",
   "execution_count": 17,
   "id": "480ad5d6",
   "metadata": {},
   "outputs": [],
   "source": [
    "# Importing required libraries\n",
    "import pandas as pd\n",
    "import numpy as np\n",
    "import seaborn as sns\n",
    "import matplotlib.pyplot as plt\n",
    "import plotly.express as px\n",
    "import plotly.graph_objects as go"
   ]
  },
  {
   "cell_type": "markdown",
   "id": "bfdc83d1",
   "metadata": {},
   "source": [
    "## 2. Load Data\n",
    "Set the path to your data files and load the relevant CSV files. The data was sourced from publicly available Kaggle datasets."
   ]
  },
  {
   "cell_type": "code",
   "execution_count": null,
   "id": "fed3ee43",
   "metadata": {},
   "outputs": [
    {
     "ename": "FileNotFoundError",
     "evalue": "[Errno 2] No such file or directory: './Raw-Data_CSV_Football-Analysis_German-Bundesliga/appearances.csv'",
     "output_type": "error",
     "traceback": [
      "\u001b[31m---------------------------------------------------------------------------\u001b[39m",
      "\u001b[31mFileNotFoundError\u001b[39m                         Traceback (most recent call last)",
      "\u001b[36mCell\u001b[39m\u001b[36m \u001b[39m\u001b[32mIn[20]\u001b[39m\u001b[32m, line 5\u001b[39m\n\u001b[32m      2\u001b[39m data_path = \u001b[33m'\u001b[39m\u001b[33m./Raw-Data_CSV_Football-Analysis_German-Bundesliga/\u001b[39m\u001b[33m'\u001b[39m\n\u001b[32m      4\u001b[39m \u001b[38;5;66;03m# Load datasets\u001b[39;00m\n\u001b[32m----> \u001b[39m\u001b[32m5\u001b[39m appearances = \u001b[43mpd\u001b[49m\u001b[43m.\u001b[49m\u001b[43mread_csv\u001b[49m\u001b[43m(\u001b[49m\u001b[43mdata_path\u001b[49m\u001b[43m \u001b[49m\u001b[43m+\u001b[49m\u001b[43m \u001b[49m\u001b[33;43m'\u001b[39;49m\u001b[33;43mappearances.csv\u001b[39;49m\u001b[33;43m'\u001b[39;49m\u001b[43m)\u001b[49m\n\u001b[32m      6\u001b[39m club_games = pd.read_csv(data_path + \u001b[33m'\u001b[39m\u001b[33mclub_games.csv\u001b[39m\u001b[33m'\u001b[39m)\n\u001b[32m      7\u001b[39m clubs = pd.read_csv(data_path + \u001b[33m'\u001b[39m\u001b[33mclubs.csv\u001b[39m\u001b[33m'\u001b[39m)\n",
      "\u001b[36mFile \u001b[39m\u001b[32m~\\AppData\\Local\\Packages\\PythonSoftwareFoundation.Python.3.13_qbz5n2kfra8p0\\LocalCache\\local-packages\\Python313\\site-packages\\pandas\\io\\parsers\\readers.py:1026\u001b[39m, in \u001b[36mread_csv\u001b[39m\u001b[34m(filepath_or_buffer, sep, delimiter, header, names, index_col, usecols, dtype, engine, converters, true_values, false_values, skipinitialspace, skiprows, skipfooter, nrows, na_values, keep_default_na, na_filter, verbose, skip_blank_lines, parse_dates, infer_datetime_format, keep_date_col, date_parser, date_format, dayfirst, cache_dates, iterator, chunksize, compression, thousands, decimal, lineterminator, quotechar, quoting, doublequote, escapechar, comment, encoding, encoding_errors, dialect, on_bad_lines, delim_whitespace, low_memory, memory_map, float_precision, storage_options, dtype_backend)\u001b[39m\n\u001b[32m   1013\u001b[39m kwds_defaults = _refine_defaults_read(\n\u001b[32m   1014\u001b[39m     dialect,\n\u001b[32m   1015\u001b[39m     delimiter,\n\u001b[32m   (...)\u001b[39m\u001b[32m   1022\u001b[39m     dtype_backend=dtype_backend,\n\u001b[32m   1023\u001b[39m )\n\u001b[32m   1024\u001b[39m kwds.update(kwds_defaults)\n\u001b[32m-> \u001b[39m\u001b[32m1026\u001b[39m \u001b[38;5;28;01mreturn\u001b[39;00m \u001b[43m_read\u001b[49m\u001b[43m(\u001b[49m\u001b[43mfilepath_or_buffer\u001b[49m\u001b[43m,\u001b[49m\u001b[43m \u001b[49m\u001b[43mkwds\u001b[49m\u001b[43m)\u001b[49m\n",
      "\u001b[36mFile \u001b[39m\u001b[32m~\\AppData\\Local\\Packages\\PythonSoftwareFoundation.Python.3.13_qbz5n2kfra8p0\\LocalCache\\local-packages\\Python313\\site-packages\\pandas\\io\\parsers\\readers.py:620\u001b[39m, in \u001b[36m_read\u001b[39m\u001b[34m(filepath_or_buffer, kwds)\u001b[39m\n\u001b[32m    617\u001b[39m _validate_names(kwds.get(\u001b[33m\"\u001b[39m\u001b[33mnames\u001b[39m\u001b[33m\"\u001b[39m, \u001b[38;5;28;01mNone\u001b[39;00m))\n\u001b[32m    619\u001b[39m \u001b[38;5;66;03m# Create the parser.\u001b[39;00m\n\u001b[32m--> \u001b[39m\u001b[32m620\u001b[39m parser = \u001b[43mTextFileReader\u001b[49m\u001b[43m(\u001b[49m\u001b[43mfilepath_or_buffer\u001b[49m\u001b[43m,\u001b[49m\u001b[43m \u001b[49m\u001b[43m*\u001b[49m\u001b[43m*\u001b[49m\u001b[43mkwds\u001b[49m\u001b[43m)\u001b[49m\n\u001b[32m    622\u001b[39m \u001b[38;5;28;01mif\u001b[39;00m chunksize \u001b[38;5;129;01mor\u001b[39;00m iterator:\n\u001b[32m    623\u001b[39m     \u001b[38;5;28;01mreturn\u001b[39;00m parser\n",
      "\u001b[36mFile \u001b[39m\u001b[32m~\\AppData\\Local\\Packages\\PythonSoftwareFoundation.Python.3.13_qbz5n2kfra8p0\\LocalCache\\local-packages\\Python313\\site-packages\\pandas\\io\\parsers\\readers.py:1620\u001b[39m, in \u001b[36mTextFileReader.__init__\u001b[39m\u001b[34m(self, f, engine, **kwds)\u001b[39m\n\u001b[32m   1617\u001b[39m     \u001b[38;5;28mself\u001b[39m.options[\u001b[33m\"\u001b[39m\u001b[33mhas_index_names\u001b[39m\u001b[33m\"\u001b[39m] = kwds[\u001b[33m\"\u001b[39m\u001b[33mhas_index_names\u001b[39m\u001b[33m\"\u001b[39m]\n\u001b[32m   1619\u001b[39m \u001b[38;5;28mself\u001b[39m.handles: IOHandles | \u001b[38;5;28;01mNone\u001b[39;00m = \u001b[38;5;28;01mNone\u001b[39;00m\n\u001b[32m-> \u001b[39m\u001b[32m1620\u001b[39m \u001b[38;5;28mself\u001b[39m._engine = \u001b[38;5;28;43mself\u001b[39;49m\u001b[43m.\u001b[49m\u001b[43m_make_engine\u001b[49m\u001b[43m(\u001b[49m\u001b[43mf\u001b[49m\u001b[43m,\u001b[49m\u001b[43m \u001b[49m\u001b[38;5;28;43mself\u001b[39;49m\u001b[43m.\u001b[49m\u001b[43mengine\u001b[49m\u001b[43m)\u001b[49m\n",
      "\u001b[36mFile \u001b[39m\u001b[32m~\\AppData\\Local\\Packages\\PythonSoftwareFoundation.Python.3.13_qbz5n2kfra8p0\\LocalCache\\local-packages\\Python313\\site-packages\\pandas\\io\\parsers\\readers.py:1880\u001b[39m, in \u001b[36mTextFileReader._make_engine\u001b[39m\u001b[34m(self, f, engine)\u001b[39m\n\u001b[32m   1878\u001b[39m     \u001b[38;5;28;01mif\u001b[39;00m \u001b[33m\"\u001b[39m\u001b[33mb\u001b[39m\u001b[33m\"\u001b[39m \u001b[38;5;129;01mnot\u001b[39;00m \u001b[38;5;129;01min\u001b[39;00m mode:\n\u001b[32m   1879\u001b[39m         mode += \u001b[33m\"\u001b[39m\u001b[33mb\u001b[39m\u001b[33m\"\u001b[39m\n\u001b[32m-> \u001b[39m\u001b[32m1880\u001b[39m \u001b[38;5;28mself\u001b[39m.handles = \u001b[43mget_handle\u001b[49m\u001b[43m(\u001b[49m\n\u001b[32m   1881\u001b[39m \u001b[43m    \u001b[49m\u001b[43mf\u001b[49m\u001b[43m,\u001b[49m\n\u001b[32m   1882\u001b[39m \u001b[43m    \u001b[49m\u001b[43mmode\u001b[49m\u001b[43m,\u001b[49m\n\u001b[32m   1883\u001b[39m \u001b[43m    \u001b[49m\u001b[43mencoding\u001b[49m\u001b[43m=\u001b[49m\u001b[38;5;28;43mself\u001b[39;49m\u001b[43m.\u001b[49m\u001b[43moptions\u001b[49m\u001b[43m.\u001b[49m\u001b[43mget\u001b[49m\u001b[43m(\u001b[49m\u001b[33;43m\"\u001b[39;49m\u001b[33;43mencoding\u001b[39;49m\u001b[33;43m\"\u001b[39;49m\u001b[43m,\u001b[49m\u001b[43m \u001b[49m\u001b[38;5;28;43;01mNone\u001b[39;49;00m\u001b[43m)\u001b[49m\u001b[43m,\u001b[49m\n\u001b[32m   1884\u001b[39m \u001b[43m    \u001b[49m\u001b[43mcompression\u001b[49m\u001b[43m=\u001b[49m\u001b[38;5;28;43mself\u001b[39;49m\u001b[43m.\u001b[49m\u001b[43moptions\u001b[49m\u001b[43m.\u001b[49m\u001b[43mget\u001b[49m\u001b[43m(\u001b[49m\u001b[33;43m\"\u001b[39;49m\u001b[33;43mcompression\u001b[39;49m\u001b[33;43m\"\u001b[39;49m\u001b[43m,\u001b[49m\u001b[43m \u001b[49m\u001b[38;5;28;43;01mNone\u001b[39;49;00m\u001b[43m)\u001b[49m\u001b[43m,\u001b[49m\n\u001b[32m   1885\u001b[39m \u001b[43m    \u001b[49m\u001b[43mmemory_map\u001b[49m\u001b[43m=\u001b[49m\u001b[38;5;28;43mself\u001b[39;49m\u001b[43m.\u001b[49m\u001b[43moptions\u001b[49m\u001b[43m.\u001b[49m\u001b[43mget\u001b[49m\u001b[43m(\u001b[49m\u001b[33;43m\"\u001b[39;49m\u001b[33;43mmemory_map\u001b[39;49m\u001b[33;43m\"\u001b[39;49m\u001b[43m,\u001b[49m\u001b[43m \u001b[49m\u001b[38;5;28;43;01mFalse\u001b[39;49;00m\u001b[43m)\u001b[49m\u001b[43m,\u001b[49m\n\u001b[32m   1886\u001b[39m \u001b[43m    \u001b[49m\u001b[43mis_text\u001b[49m\u001b[43m=\u001b[49m\u001b[43mis_text\u001b[49m\u001b[43m,\u001b[49m\n\u001b[32m   1887\u001b[39m \u001b[43m    \u001b[49m\u001b[43merrors\u001b[49m\u001b[43m=\u001b[49m\u001b[38;5;28;43mself\u001b[39;49m\u001b[43m.\u001b[49m\u001b[43moptions\u001b[49m\u001b[43m.\u001b[49m\u001b[43mget\u001b[49m\u001b[43m(\u001b[49m\u001b[33;43m\"\u001b[39;49m\u001b[33;43mencoding_errors\u001b[39;49m\u001b[33;43m\"\u001b[39;49m\u001b[43m,\u001b[49m\u001b[43m \u001b[49m\u001b[33;43m\"\u001b[39;49m\u001b[33;43mstrict\u001b[39;49m\u001b[33;43m\"\u001b[39;49m\u001b[43m)\u001b[49m\u001b[43m,\u001b[49m\n\u001b[32m   1888\u001b[39m \u001b[43m    \u001b[49m\u001b[43mstorage_options\u001b[49m\u001b[43m=\u001b[49m\u001b[38;5;28;43mself\u001b[39;49m\u001b[43m.\u001b[49m\u001b[43moptions\u001b[49m\u001b[43m.\u001b[49m\u001b[43mget\u001b[49m\u001b[43m(\u001b[49m\u001b[33;43m\"\u001b[39;49m\u001b[33;43mstorage_options\u001b[39;49m\u001b[33;43m\"\u001b[39;49m\u001b[43m,\u001b[49m\u001b[43m \u001b[49m\u001b[38;5;28;43;01mNone\u001b[39;49;00m\u001b[43m)\u001b[49m\u001b[43m,\u001b[49m\n\u001b[32m   1889\u001b[39m \u001b[43m\u001b[49m\u001b[43m)\u001b[49m\n\u001b[32m   1890\u001b[39m \u001b[38;5;28;01massert\u001b[39;00m \u001b[38;5;28mself\u001b[39m.handles \u001b[38;5;129;01mis\u001b[39;00m \u001b[38;5;129;01mnot\u001b[39;00m \u001b[38;5;28;01mNone\u001b[39;00m\n\u001b[32m   1891\u001b[39m f = \u001b[38;5;28mself\u001b[39m.handles.handle\n",
      "\u001b[36mFile \u001b[39m\u001b[32m~\\AppData\\Local\\Packages\\PythonSoftwareFoundation.Python.3.13_qbz5n2kfra8p0\\LocalCache\\local-packages\\Python313\\site-packages\\pandas\\io\\common.py:873\u001b[39m, in \u001b[36mget_handle\u001b[39m\u001b[34m(path_or_buf, mode, encoding, compression, memory_map, is_text, errors, storage_options)\u001b[39m\n\u001b[32m    868\u001b[39m \u001b[38;5;28;01melif\u001b[39;00m \u001b[38;5;28misinstance\u001b[39m(handle, \u001b[38;5;28mstr\u001b[39m):\n\u001b[32m    869\u001b[39m     \u001b[38;5;66;03m# Check whether the filename is to be opened in binary mode.\u001b[39;00m\n\u001b[32m    870\u001b[39m     \u001b[38;5;66;03m# Binary mode does not support 'encoding' and 'newline'.\u001b[39;00m\n\u001b[32m    871\u001b[39m     \u001b[38;5;28;01mif\u001b[39;00m ioargs.encoding \u001b[38;5;129;01mand\u001b[39;00m \u001b[33m\"\u001b[39m\u001b[33mb\u001b[39m\u001b[33m\"\u001b[39m \u001b[38;5;129;01mnot\u001b[39;00m \u001b[38;5;129;01min\u001b[39;00m ioargs.mode:\n\u001b[32m    872\u001b[39m         \u001b[38;5;66;03m# Encoding\u001b[39;00m\n\u001b[32m--> \u001b[39m\u001b[32m873\u001b[39m         handle = \u001b[38;5;28;43mopen\u001b[39;49m\u001b[43m(\u001b[49m\n\u001b[32m    874\u001b[39m \u001b[43m            \u001b[49m\u001b[43mhandle\u001b[49m\u001b[43m,\u001b[49m\n\u001b[32m    875\u001b[39m \u001b[43m            \u001b[49m\u001b[43mioargs\u001b[49m\u001b[43m.\u001b[49m\u001b[43mmode\u001b[49m\u001b[43m,\u001b[49m\n\u001b[32m    876\u001b[39m \u001b[43m            \u001b[49m\u001b[43mencoding\u001b[49m\u001b[43m=\u001b[49m\u001b[43mioargs\u001b[49m\u001b[43m.\u001b[49m\u001b[43mencoding\u001b[49m\u001b[43m,\u001b[49m\n\u001b[32m    877\u001b[39m \u001b[43m            \u001b[49m\u001b[43merrors\u001b[49m\u001b[43m=\u001b[49m\u001b[43merrors\u001b[49m\u001b[43m,\u001b[49m\n\u001b[32m    878\u001b[39m \u001b[43m            \u001b[49m\u001b[43mnewline\u001b[49m\u001b[43m=\u001b[49m\u001b[33;43m\"\u001b[39;49m\u001b[33;43m\"\u001b[39;49m\u001b[43m,\u001b[49m\n\u001b[32m    879\u001b[39m \u001b[43m        \u001b[49m\u001b[43m)\u001b[49m\n\u001b[32m    880\u001b[39m     \u001b[38;5;28;01melse\u001b[39;00m:\n\u001b[32m    881\u001b[39m         \u001b[38;5;66;03m# Binary mode\u001b[39;00m\n\u001b[32m    882\u001b[39m         handle = \u001b[38;5;28mopen\u001b[39m(handle, ioargs.mode)\n",
      "\u001b[31mFileNotFoundError\u001b[39m: [Errno 2] No such file or directory: './Raw-Data_CSV_Football-Analysis_German-Bundesliga/appearances.csv'"
     ]
    }
   ],
   "source": [
    "# Set the path to your data files\n",
    "data_path = './Raw-Data_CSV_Football-Analysis_German-Bundesliga/'\n",
    "\n",
    "# Load datasets\n",
    "appearances = pd.read_csv(data_path + 'appearances.csv')\n",
    "club_games = pd.read_csv(data_path + 'club_games.csv')\n",
    "clubs = pd.read_csv(data_path + 'clubs.csv')\n",
    "competitions = pd.read_csv(data_path + 'competitions.csv')\n",
    "game_events = pd.read_csv(data_path + 'game_events.csv')\n",
    "games = pd.read_csv(data_path + 'games.csv')\n",
    "player_valuations = pd.read_csv(data_path + 'player_valuations.csv')\n",
    "players = pd.read_csv(data_path + 'players.csv')\n",
    "\n",
    "# Verify the data loading\n",
    "print(players.head())"
   ]
  },
  {
   "cell_type": "markdown",
   "id": "c3ae43a0",
   "metadata": {},
   "source": [
    "## 3. Exploratory Data Analysis (EDA)\n",
    "### 3.1 Basic Statistics\n",
    "Explore basic statistics of the players DataFrame."
   ]
  },
  {
   "cell_type": "code",
   "execution_count": 15,
   "id": "e083fa91",
   "metadata": {},
   "outputs": [
    {
     "ename": "AttributeError",
     "evalue": "'NoneType' object has no attribute 'fillna'",
     "output_type": "error",
     "traceback": [
      "\u001b[31m---------------------------------------------------------------------------\u001b[39m",
      "\u001b[31mAttributeError\u001b[39m                            Traceback (most recent call last)",
      "\u001b[36mCell\u001b[39m\u001b[36m \u001b[39m\u001b[32mIn[15]\u001b[39m\u001b[32m, line 7\u001b[39m\n\u001b[32m      4\u001b[39m     df[\u001b[33m'\u001b[39m\u001b[33mdate\u001b[39m\u001b[33m'\u001b[39m] = pd.to_datetime(df[\u001b[33m'\u001b[39m\u001b[33mdate\u001b[39m\u001b[33m'\u001b[39m], errors=\u001b[33m'\u001b[39m\u001b[33mcoerce\u001b[39m\u001b[33m'\u001b[39m)  \u001b[38;5;66;03m# Coerce errors for invalid parsing\u001b[39;00m\n\u001b[32m      5\u001b[39m     \u001b[38;5;28;01mreturn\u001b[39;00m df\n\u001b[32m----> \u001b[39m\u001b[32m7\u001b[39m bayern_stats = \u001b[43mprepare_data\u001b[49m\u001b[43m(\u001b[49m\u001b[43mbayern_stats\u001b[49m\u001b[43m)\u001b[49m\n",
      "\u001b[36mCell\u001b[39m\u001b[36m \u001b[39m\u001b[32mIn[15]\u001b[39m\u001b[32m, line 3\u001b[39m, in \u001b[36mprepare_data\u001b[39m\u001b[34m(df)\u001b[39m\n\u001b[32m      1\u001b[39m \u001b[38;5;28;01mdef\u001b[39;00m\u001b[38;5;250m \u001b[39m\u001b[34mprepare_data\u001b[39m(df):\n\u001b[32m      2\u001b[39m \u001b[38;5;250m    \u001b[39m\u001b[33;03m\"\"\"Prepares the data by handling missing values and formatting date fields.\"\"\"\u001b[39;00m\n\u001b[32m----> \u001b[39m\u001b[32m3\u001b[39m     \u001b[43mdf\u001b[49m\u001b[43m.\u001b[49m\u001b[43mfillna\u001b[49m(\u001b[32m0\u001b[39m, inplace=\u001b[38;5;28;01mTrue\u001b[39;00m)  \u001b[38;5;66;03m# Consider discussing alternative imputation strategies\u001b[39;00m\n\u001b[32m      4\u001b[39m     df[\u001b[33m'\u001b[39m\u001b[33mdate\u001b[39m\u001b[33m'\u001b[39m] = pd.to_datetime(df[\u001b[33m'\u001b[39m\u001b[33mdate\u001b[39m\u001b[33m'\u001b[39m], errors=\u001b[33m'\u001b[39m\u001b[33mcoerce\u001b[39m\u001b[33m'\u001b[39m)  \u001b[38;5;66;03m# Coerce errors for invalid parsing\u001b[39;00m\n\u001b[32m      5\u001b[39m     \u001b[38;5;28;01mreturn\u001b[39;00m df\n",
      "\u001b[31mAttributeError\u001b[39m: 'NoneType' object has no attribute 'fillna'"
     ]
    }
   ],
   "source": [
    "print(players.describe())"
   ]
  },
  {
   "cell_type": "markdown",
   "id": "1a0e5b91",
   "metadata": {},
   "source": [
    "### 3.2 Data Visualization: Market Value of Players\n",
    "Visualize the market value of players for Bayern Munich."
   ]
  },
  {
   "cell_type": "code",
   "execution_count": null,
   "id": "cb9a144a",
   "metadata": {},
   "outputs": [],
   "source": [
    "plt.figure(figsize=(10, 6))\n",
    "sns.barplot(x='Player', y='Market Value', data=players)\n",
    "plt.title('Market Value of Players for Bayern Munich')\n",
    "plt.xticks(rotation=45)\n",
    "plt.ylabel('Market Value')\n",
    "plt.xlabel('Player')\n",
    "plt.show()"
   ]
  },
  {
   "cell_type": "markdown",
   "id": "2445ffdd",
   "metadata": {},
   "source": [
    "### 3.3 Correlation Analysis\n",
    "The correlation matrix illustrates relationships between player metrics such as goals, assists, and market value. Strong positive correlations suggest an increase in one metric correlates with an increase in another."
   ]
  },
  {
   "cell_type": "code",
   "execution_count": 21,
   "id": "d16508fb",
   "metadata": {},
   "outputs": [
    {
     "ename": "NameError",
     "evalue": "name 'players' is not defined",
     "output_type": "error",
     "traceback": [
      "\u001b[31m---------------------------------------------------------------------------\u001b[39m",
      "\u001b[31mNameError\u001b[39m                                 Traceback (most recent call last)",
      "\u001b[36mCell\u001b[39m\u001b[36m \u001b[39m\u001b[32mIn[21]\u001b[39m\u001b[32m, line 2\u001b[39m\n\u001b[32m      1\u001b[39m plt.figure(figsize=(\u001b[32m10\u001b[39m, \u001b[32m6\u001b[39m))\n\u001b[32m----> \u001b[39m\u001b[32m2\u001b[39m sns.barplot(x=\u001b[33m'\u001b[39m\u001b[33mPlayer\u001b[39m\u001b[33m'\u001b[39m, y=\u001b[33m'\u001b[39m\u001b[33mMarket Value\u001b[39m\u001b[33m'\u001b[39m, data=\u001b[43mplayers\u001b[49m)\n\u001b[32m      3\u001b[39m plt.title(\u001b[33m'\u001b[39m\u001b[33mMarket Value of Players for Bayern Munich\u001b[39m\u001b[33m'\u001b[39m)\n\u001b[32m      4\u001b[39m plt.xticks(rotation=\u001b[32m45\u001b[39m)\n",
      "\u001b[31mNameError\u001b[39m: name 'players' is not defined"
     ]
    },
    {
     "data": {
      "text/plain": [
       "<Figure size 1000x600 with 0 Axes>"
      ]
     },
     "metadata": {},
     "output_type": "display_data"
    }
   ],
   "source": [
    "sns.scatterplot(data=game_events, x='xG', y='goals')\n",
    "plt.title(\"Correlation between xG and Actual Goals\")\n",
    "plt.show()"
   ]
  },
  {
   "cell_type": "markdown",
   "id": "e014d978",
   "metadata": {},
   "source": [
    "## 4. Performance Analysis\n",
    "### 4.1 Match Performance Overview\n",
    "Analyze the team's performance based on match results."
   ]
  },
  {
   "cell_type": "code",
   "execution_count": null,
   "id": "caf82a34",
   "metadata": {},
   "outputs": [],
   "source": [
    "def performance_analysis(df):\n",
    "    \"\"\"Analyzes the team's performance based on match results.\"\"\"\n",
    "    performance_counts = df['result'].value_counts().reset_index()\n",
    "    performance_counts.columns = ['result', 'count']\n",
    "\n",
    "    plt.figure(figsize=(10, 6))\n",
    "    sns.barplot(x='result', y='count', data=performance_counts)\n",
    "    plt.title('Team Performance Overview')\n",
    "    plt.xlabel('Match Result')\n",
    "    plt.ylabel('Number of Matches')\n",
    "    plt.show()\n",
    "\n",
    "performance_analysis(game_events)"
   ]
  },
  {
   "cell_type": "markdown",
   "id": "0c0d573e",
   "metadata": {},
   "source": [
    "### 4.2 Interpretation of Performance Overview\n",
    "The bar chart reveals insights into the number of matches won, lost, and drawn by Bayern Munich during the season, assisting in identifying strengths and weaknesses."
   ]
  },
  {
   "cell_type": "markdown",
   "id": "2b8c17f4",
   "metadata": {},
   "source": [
    "## 5. Market Value Analysis\n",
    "### 5.1 Player Market Value Trends\n",
    "Analyze the fluctuations in player market values over the season."
   ]
  },
  {
   "cell_type": "code",
   "execution_count": null,
   "id": "d4641cdb",
   "metadata": {},
   "outputs": [],
   "source": [
    "def market_value_analysis(df):\n",
    "    \"\"\"Analyzes the market value trends over time.\"\"\"\n",
    "    fig = px.line(df, x='date', y='market_value', title='Market Value Trend of Players', labels={'market_value':'Market Value', 'date':'Date'})\n",
    "    fig.show()\n",
    "\n",
    "market_value_analysis(player_valuations)"
   ]
  },
  {
   "cell_type": "markdown",
   "id": "e3ce721a",
   "metadata": {},
   "source": [
    "### 5.2 Interpretation of Market Value Trends\n",
    "The line plot illustrates how market values change over time, aiding in understanding investment decisions for the club."
   ]
  },
  {
   "cell_type": "markdown",
   "id": "6854a6cd",
   "metadata": {},
   "source": [
    "## 6. Predictive Modeling\n",
    "### 6.1 Building a Predictive Model\n",
    "Develop predictive models to forecast future market values based on players' historical performance data."
   ]
  },
  {
   "cell_type": "code",
   "execution_count": null,
   "id": "cbb9c3ad",
   "metadata": {},
   "outputs": [],
   "source": [
    "from sklearn.linear_model import LinearRegression\n",
    "\n",
    "def build_predictive_model(df):\n",
    "    \"\"\"Builds and fits a linear regression model to predict market values.\"\"\"\n",
    "    X = df[['goals', 'assists', 'minutes_played']]\n",
    "    y = df['market_value']\n",
    "    \n",
    "    model = LinearRegression().fit(X, y)\n",
    "    print(f\"Model R² score: {model.score(X, y):.2f}\")\n",
    "    return model\n",
    "\n",
    "model = build_predictive_model(player_valuations)"
   ]
  },
  {
   "cell_type": "markdown",
   "id": "24414770",
   "metadata": {},
   "source": [
    "### 6.2 Interpretation of Predictive Model\n",
    "The R² score indicates how effectively the model explains the variance in market value, guiding improvements in prediction accuracy."
   ]
  },
  {
   "cell_type": "markdown",
   "id": "c717ea2f",
   "metadata": {},
   "source": [
    "## 7. Expected Goals (xG) Analysis\n",
    "### 7.1 Calculating and Analyzing xG\n",
    "Calculate expected goals (xG) and compare them to actual goals scored."
   ]
  },
  {
   "cell_type": "code",
   "execution_count": null,
   "id": "5b8915e6",
   "metadata": {},
   "outputs": [],
   "source": [
    "def calculate_xG(row):\n",
    "    \"\"\"Calculates expected goals for a given row.\"\"\"\n",
    "    return row['shot_detail'] * 0.1  # Update with actual logic\n",
    "\n",
    "players['xG'] = players.apply(calculate_xG, axis=1)\n",
    "\n",
    "# Exploratory Data Analysis of xG\n",
    "plt.figure(figsize=(10, 6))\n",
    "sns.scatterplot(x='xG', y='goals', data=players)\n",
    "plt.title('Expected Goals (xG) vs Actual Goals for Bayern Munich')\n",
    "plt.xlabel('Expected Goals (xG)')\n",
    "plt.ylabel('Actual Goals')\n",
    "plt.show()"
   ]
  },
  {
   "cell_type": "markdown",
   "id": "e60cebda",
   "metadata": {},
   "source": [
    "### 7.2 Interpretation of xG vs. Actual Goals\n",
    "The scatter plot demonstrates the relationship between expected goals and actual goals. Consistent scoring above xG indicates strong finishing ability."
   ]
  },
  {
   "cell_type": "markdown",
   "id": "e3d10489",
   "metadata": {},
   "source": [
    "## 8. Cumulative Goals and xG"
   ]
  },
  {
   "cell_type": "code",
   "execution_count": 22,
   "id": "31159f83",
   "metadata": {},
   "outputs": [
    {
     "ename": "TypeError",
     "evalue": "'NoneType' object is not subscriptable",
     "output_type": "error",
     "traceback": [
      "\u001b[31m---------------------------------------------------------------------------\u001b[39m",
      "\u001b[31mTypeError\u001b[39m                                 Traceback (most recent call last)",
      "\u001b[36mCell\u001b[39m\u001b[36m \u001b[39m\u001b[32mIn[22]\u001b[39m\u001b[32m, line 2\u001b[39m\n\u001b[32m      1\u001b[39m \u001b[38;5;66;03m# Summarizing total xG and actual goals\u001b[39;00m\n\u001b[32m----> \u001b[39m\u001b[32m2\u001b[39m total_xG = \u001b[43mbayern_stats\u001b[49m\u001b[43m[\u001b[49m\u001b[33;43m'\u001b[39;49m\u001b[33;43mxG\u001b[39;49m\u001b[33;43m'\u001b[39;49m\u001b[43m]\u001b[49m.sum()\n\u001b[32m      3\u001b[39m total_goals = bayern_stats[\u001b[33m'\u001b[39m\u001b[33mgoals\u001b[39m\u001b[33m'\u001b[39m].sum()\n\u001b[32m      5\u001b[39m \u001b[38;5;28mprint\u001b[39m(\u001b[33mf\u001b[39m\u001b[33m\"\u001b[39m\u001b[33mTotal Expected Goals (xG): \u001b[39m\u001b[38;5;132;01m{\u001b[39;00mtotal_xG\u001b[38;5;132;01m:\u001b[39;00m\u001b[33m.2f\u001b[39m\u001b[38;5;132;01m}\u001b[39;00m\u001b[33m\"\u001b[39m)\n",
      "\u001b[31mTypeError\u001b[39m: 'NoneType' object is not subscriptable"
     ]
    }
   ],
   "source": [
    "# Summarizing total xG and actual goals\n",
    "total_xG = players['xG'].sum()\n",
    "total_goals = players['goals'].sum()\n",
    "\n",
    "print(f\"Total Expected Goals (xG): {total_xG:.2f}\")\n",
    "print(f\"Total Actual Goals Scored: {total_goals:.2f}\")\n",
    "\n",
    "# Visualize cumulative xG and actual goals\n",
    "players['cumulative_xG'] = players['xG'].cumsum()\n",
    "players['cumulative_goals'] = players['goals'].cumsum()\n",
    "\n",
    "plt.figure(figsize=(12, 7))\n",
    "plt.plot(players['date'], players['cumulative_xG'], label='Cumulative xG')\n",
    "plt.plot(players['date'], players['cumulative_goals'], label='Cumulative Goals')\n",
    "plt.legend()\n",
    "plt.title('Cumulative xG vs. Goals Over the Season')\n",
    "plt.xlabel('Date')\n",
    "plt.ylabel('Total xG/Goals')\n",
    "plt.show()"
   ]
  },
  {
   "cell_type": "markdown",
   "id": "27fbdc47",
   "metadata": {},
   "source": [
    "### 8.1 Cumulative Analysis of xG and Actual Goals\n",
    "This visualization allows us to assess trends and overall efficiency in scoring."
   ]
  },
  {
   "cell_type": "markdown",
   "id": "0123235a",
   "metadata": {},
   "source": [
    "## Conclusion\n",
    "This analysis provides comprehensive insights into FC Bayern Munich's performance and market dynamics throughout the 2023-2024 Bundesliga season. Key takeaways include:\n",
    "\n",
    "Performance Insights: Identification of metrics impacting team success.\n",
    "Market Value Dynamics: Understanding how performance influences player valuations.\n",
    "Strategic Recommendations: Guidance for optimizing player acquisition and development.\n",
    "Future Directions\n",
    "Data Integration: Include sources like fan engagement metrics for a holistic view.\n",
    "Advanced Analytics: Utilize machine learning for improved prediction accuracy.\n",
    "Operational Efficiency: Implement real-time analytics for timely insights.\n",
    "This portfolio showcases analytical capabilities across Python, translating complex data into strategic insights.\n",
    "\n"
   ]
  }
 ],
 "metadata": {
  "kernelspec": {
   "display_name": "Python 3",
   "language": "python",
   "name": "python3"
  },
  "language_info": {
   "codemirror_mode": {
    "name": "ipython",
    "version": 3
   },
   "file_extension": ".py",
   "mimetype": "text/x-python",
   "name": "python",
   "nbconvert_exporter": "python",
   "pygments_lexer": "ipython3",
   "version": "3.13.3"
  },
  "widgets": {
   "application/vnd.jupyter.widget-state+json": {
    "state": {},
    "version_major": 2,
    "version_minor": 0
   }
  }
 },
 "nbformat": 4,
 "nbformat_minor": 5
}
