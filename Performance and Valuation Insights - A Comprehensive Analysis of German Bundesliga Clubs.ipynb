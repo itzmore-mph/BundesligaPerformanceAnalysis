{
 "cells": [
  {
   "cell_type": "markdown",
   "id": "805bad10",
   "metadata": {},
   "source": [
    "# Performance and Valuation Insights: A Comprehensive Analysis of German Bundesliga Clubs with FC Bayern Munich as a Case Study (Season 2023/2024)\n",
    "\n",
    "This portfolio project provides an in-depth analysis of FC Bayern Munich's performance and market dynamics during the Bundesliga 2023-2024 season. Leveraging Python for data manipulation and analysis, this project highlights key trends and derives actionable insights.\n",
    "\n",
    "### Author: Moritz Philipp Haaf, BSc MA\n",
    "\n",
    "### Contact Information:\n",
    "- **Email:** moritz_haaf@outlook.com\n",
    "- **GitHub:** [itzmore-mph/itzmore-mph-portfolio](https://github.com/itzmore-mph/itzmore-mph-portfolio)"
   ]
  },
  {
   "cell_type": "markdown",
   "id": "849ff2e4",
   "metadata": {},
   "source": [
    "## 1. Initial Setup\n",
    "Import libraries for SQL, data manipulation, visualization, and regex."
   ]
  },
  {
   "cell_type": "code",
   "execution_count": null,
   "id": "f0ec72f0",
   "metadata": {},
   "outputs": [
    {
     "name": "stdout",
     "output_type": "stream",
     "text": [
      "Working directory: /Users/mph/Coding/itzmore-mph/BundesligaPerformanceAnalysis\n",
      "Reading CSVs from: /Users/mph/Coding/itzmore-mph/BundesligaPerformanceAnalysis/data/raw/\n",
      "Found CSVs: ['appearances.csv', 'club_games.csv', 'clubs.csv', 'competitions.csv', 'game_events.csv', 'games.csv', 'player_valuations.csv', 'players.csv']\n"
     ]
    }
   ],
   "source": [
    "## 1. Initial Setup\n",
    "\n",
    "import os, warnings, re\n",
    "import duckdb\n",
    "import pandas as pd\n",
    "import numpy as np\n",
    "import seaborn as sns\n",
    "import matplotlib.pyplot as plt\n",
    "\n",
    "warnings.filterwarnings('ignore')\n",
    "\n",
    "# 1.1 Confirm working directory and data path\n",
    "cwd      = os.getcwd()\n",
    "data_dir = os.path.join(cwd, 'data', 'raw')\n",
    "assert os.path.isdir(data_dir), f\"data/raw not found at {data_dir}\"\n",
    "data_path = data_dir + os.sep\n",
    "\n",
    "print(\"Working directory:\", cwd)\n",
    "print(\"Reading CSVs from:\", data_path)\n",
    "print(\"Found CSVs:\", sorted(os.listdir(data_dir)))\n"
   ]
  },
  {
   "cell_type": "markdown",
   "id": "a8af1178",
   "metadata": {},
   "source": [
    "## 2. SQL Data Exploration\n",
    "Retrieve average market values and total goals/xG per player."
   ]
  },
  {
   "cell_type": "code",
   "execution_count": 158,
   "id": "e19414ce",
   "metadata": {},
   "outputs": [
    {
     "data": {
      "application/vnd.microsoft.datawrangler.viewer.v0+json": {
       "columns": [
        {
         "name": "index",
         "rawType": "int64",
         "type": "integer"
        },
        {
         "name": "player",
         "rawType": "object",
         "type": "string"
        },
        {
         "name": "avg_value",
         "rawType": "float64",
         "type": "float"
        }
       ],
       "conversionMethod": "pd.DataFrame",
       "ref": "14a199bd-57e2-4d9e-927d-99a4c8d463d2",
       "rows": [
        [
         "0",
         "Kylian Mbappé",
         "120472000.0"
        ],
        [
         "1",
         "Lionel Messi",
         "88953488.37209302"
        ],
        [
         "2",
         "Harry Kane",
         "82076923.07692307"
        ],
        [
         "3",
         "Erling Haaland",
         "81500000.0"
        ],
        [
         "4",
         "Jude Bellingham",
         "77343750.0"
        ],
        [
         "5",
         "Neymar",
         "76350000.0"
        ],
        [
         "6",
         "Cristiano Ronaldo",
         "73806666.64444445"
        ],
        [
         "7",
         "Vinicius Junior",
         "69722222.22222222"
        ],
        [
         "8",
         "Raheem Sterling",
         "65822580.64516129"
        ],
        [
         "9",
         "Gavi",
         "65625000.0"
        ]
       ],
       "shape": {
        "columns": 2,
        "rows": 10
       }
      },
      "text/html": [
       "<div>\n",
       "<style scoped>\n",
       "    .dataframe tbody tr th:only-of-type {\n",
       "        vertical-align: middle;\n",
       "    }\n",
       "\n",
       "    .dataframe tbody tr th {\n",
       "        vertical-align: top;\n",
       "    }\n",
       "\n",
       "    .dataframe thead th {\n",
       "        text-align: right;\n",
       "    }\n",
       "</style>\n",
       "<table border=\"1\" class=\"dataframe\">\n",
       "  <thead>\n",
       "    <tr style=\"text-align: right;\">\n",
       "      <th></th>\n",
       "      <th>player</th>\n",
       "      <th>avg_value</th>\n",
       "    </tr>\n",
       "  </thead>\n",
       "  <tbody>\n",
       "    <tr>\n",
       "      <th>0</th>\n",
       "      <td>Kylian Mbappé</td>\n",
       "      <td>1.204720e+08</td>\n",
       "    </tr>\n",
       "    <tr>\n",
       "      <th>1</th>\n",
       "      <td>Lionel Messi</td>\n",
       "      <td>8.895349e+07</td>\n",
       "    </tr>\n",
       "    <tr>\n",
       "      <th>2</th>\n",
       "      <td>Harry Kane</td>\n",
       "      <td>8.207692e+07</td>\n",
       "    </tr>\n",
       "    <tr>\n",
       "      <th>3</th>\n",
       "      <td>Erling Haaland</td>\n",
       "      <td>8.150000e+07</td>\n",
       "    </tr>\n",
       "    <tr>\n",
       "      <th>4</th>\n",
       "      <td>Jude Bellingham</td>\n",
       "      <td>7.734375e+07</td>\n",
       "    </tr>\n",
       "    <tr>\n",
       "      <th>5</th>\n",
       "      <td>Neymar</td>\n",
       "      <td>7.635000e+07</td>\n",
       "    </tr>\n",
       "    <tr>\n",
       "      <th>6</th>\n",
       "      <td>Cristiano Ronaldo</td>\n",
       "      <td>7.380667e+07</td>\n",
       "    </tr>\n",
       "    <tr>\n",
       "      <th>7</th>\n",
       "      <td>Vinicius Junior</td>\n",
       "      <td>6.972222e+07</td>\n",
       "    </tr>\n",
       "    <tr>\n",
       "      <th>8</th>\n",
       "      <td>Raheem Sterling</td>\n",
       "      <td>6.582258e+07</td>\n",
       "    </tr>\n",
       "    <tr>\n",
       "      <th>9</th>\n",
       "      <td>Gavi</td>\n",
       "      <td>6.562500e+07</td>\n",
       "    </tr>\n",
       "  </tbody>\n",
       "</table>\n",
       "</div>"
      ],
      "text/plain": [
       "              player     avg_value\n",
       "0      Kylian Mbappé  1.204720e+08\n",
       "1       Lionel Messi  8.895349e+07\n",
       "2         Harry Kane  8.207692e+07\n",
       "3     Erling Haaland  8.150000e+07\n",
       "4    Jude Bellingham  7.734375e+07\n",
       "5             Neymar  7.635000e+07\n",
       "6  Cristiano Ronaldo  7.380667e+07\n",
       "7    Vinicius Junior  6.972222e+07\n",
       "8    Raheem Sterling  6.582258e+07\n",
       "9               Gavi  6.562500e+07"
      ]
     },
     "execution_count": 158,
     "metadata": {},
     "output_type": "execute_result"
    }
   ],
   "source": [
    "# 2.1 Average Market Value per Player\n",
    "avg_val_query = '''\n",
    "SELECT \n",
    "  p.name                         AS player,\n",
    "  AVG(pv.market_value_in_eur)    AS avg_value\n",
    "FROM players p\n",
    "JOIN player_valuations pv USING(player_id)\n",
    "GROUP BY player\n",
    "ORDER BY avg_value DESC\n",
    "LIMIT 10;\n",
    "'''\n",
    "avg_val = con.execute(avg_val_query).df()\n",
    "avg_val\n"
   ]
  },
  {
   "cell_type": "markdown",
   "id": "eeeaa38b",
   "metadata": {},
   "source": [
    "**Interpretation:**  \n",
    "These top 10 players by average market value underscore who commanded the greatest transfer‐market premium in 2023/24. Notice how established stars from multiple clubs dominate the list—an early signal of where Bundesliga capital is concentrated.\n"
   ]
  },
  {
   "cell_type": "code",
   "execution_count": 159,
   "id": "aee199f8",
   "metadata": {},
   "outputs": [
    {
     "data": {
      "application/vnd.microsoft.datawrangler.viewer.v0+json": {
       "columns": [
        {
         "name": "index",
         "rawType": "int64",
         "type": "integer"
        },
        {
         "name": "player",
         "rawType": "object",
         "type": "string"
        },
        {
         "name": "total_goals",
         "rawType": "float64",
         "type": "float"
        },
        {
         "name": "total_assists",
         "rawType": "float64",
         "type": "float"
        }
       ],
       "conversionMethod": "pd.DataFrame",
       "ref": "289cca3e-bf53-4023-a39b-dd7f7a3c9053",
       "rows": [
        [
         "0",
         "Robert Lewandowski",
         "454.0",
         "72.0"
        ],
        [
         "1",
         "Lionel Messi",
         "443.0",
         "84.0"
        ],
        [
         "2",
         "Cristiano Ronaldo",
         "433.0",
         "90.0"
        ],
        [
         "3",
         "Luis Suárez",
         "309.0",
         "48.0"
        ],
        [
         "4",
         "Harry Kane",
         "298.0",
         "25.0"
        ],
        [
         "5",
         "Karim Benzema",
         "281.0",
         "43.0"
        ],
        [
         "6",
         "Pierre-Emerick Aubameyang",
         "278.0",
         "43.0"
        ],
        [
         "7",
         "Mohamed Salah",
         "256.0",
         "26.0"
        ],
        [
         "8",
         "Romelu Lukaku",
         "252.0",
         "45.0"
        ],
        [
         "9",
         "Ciro Immobile",
         "249.0",
         "26.0"
        ]
       ],
       "shape": {
        "columns": 3,
        "rows": 10
       }
      },
      "text/html": [
       "<div>\n",
       "<style scoped>\n",
       "    .dataframe tbody tr th:only-of-type {\n",
       "        vertical-align: middle;\n",
       "    }\n",
       "\n",
       "    .dataframe tbody tr th {\n",
       "        vertical-align: top;\n",
       "    }\n",
       "\n",
       "    .dataframe thead th {\n",
       "        text-align: right;\n",
       "    }\n",
       "</style>\n",
       "<table border=\"1\" class=\"dataframe\">\n",
       "  <thead>\n",
       "    <tr style=\"text-align: right;\">\n",
       "      <th></th>\n",
       "      <th>player</th>\n",
       "      <th>total_goals</th>\n",
       "      <th>total_assists</th>\n",
       "    </tr>\n",
       "  </thead>\n",
       "  <tbody>\n",
       "    <tr>\n",
       "      <th>0</th>\n",
       "      <td>Robert Lewandowski</td>\n",
       "      <td>454.0</td>\n",
       "      <td>72.0</td>\n",
       "    </tr>\n",
       "    <tr>\n",
       "      <th>1</th>\n",
       "      <td>Lionel Messi</td>\n",
       "      <td>443.0</td>\n",
       "      <td>84.0</td>\n",
       "    </tr>\n",
       "    <tr>\n",
       "      <th>2</th>\n",
       "      <td>Cristiano Ronaldo</td>\n",
       "      <td>433.0</td>\n",
       "      <td>90.0</td>\n",
       "    </tr>\n",
       "    <tr>\n",
       "      <th>3</th>\n",
       "      <td>Luis Suárez</td>\n",
       "      <td>309.0</td>\n",
       "      <td>48.0</td>\n",
       "    </tr>\n",
       "    <tr>\n",
       "      <th>4</th>\n",
       "      <td>Harry Kane</td>\n",
       "      <td>298.0</td>\n",
       "      <td>25.0</td>\n",
       "    </tr>\n",
       "    <tr>\n",
       "      <th>5</th>\n",
       "      <td>Karim Benzema</td>\n",
       "      <td>281.0</td>\n",
       "      <td>43.0</td>\n",
       "    </tr>\n",
       "    <tr>\n",
       "      <th>6</th>\n",
       "      <td>Pierre-Emerick Aubameyang</td>\n",
       "      <td>278.0</td>\n",
       "      <td>43.0</td>\n",
       "    </tr>\n",
       "    <tr>\n",
       "      <th>7</th>\n",
       "      <td>Mohamed Salah</td>\n",
       "      <td>256.0</td>\n",
       "      <td>26.0</td>\n",
       "    </tr>\n",
       "    <tr>\n",
       "      <th>8</th>\n",
       "      <td>Romelu Lukaku</td>\n",
       "      <td>252.0</td>\n",
       "      <td>45.0</td>\n",
       "    </tr>\n",
       "    <tr>\n",
       "      <th>9</th>\n",
       "      <td>Ciro Immobile</td>\n",
       "      <td>249.0</td>\n",
       "      <td>26.0</td>\n",
       "    </tr>\n",
       "  </tbody>\n",
       "</table>\n",
       "</div>"
      ],
      "text/plain": [
       "                      player  total_goals  total_assists\n",
       "0         Robert Lewandowski        454.0           72.0\n",
       "1               Lionel Messi        443.0           84.0\n",
       "2          Cristiano Ronaldo        433.0           90.0\n",
       "3                Luis Suárez        309.0           48.0\n",
       "4                 Harry Kane        298.0           25.0\n",
       "5              Karim Benzema        281.0           43.0\n",
       "6  Pierre-Emerick Aubameyang        278.0           43.0\n",
       "7              Mohamed Salah        256.0           26.0\n",
       "8              Romelu Lukaku        252.0           45.0\n",
       "9              Ciro Immobile        249.0           26.0"
      ]
     },
     "execution_count": 159,
     "metadata": {},
     "output_type": "execute_result"
    }
   ],
   "source": [
    "# 2.2 Total Goals & Assists per Player\n",
    "player_stats_query = '''\n",
    "SELECT\n",
    "  p.name AS player,\n",
    "  SUM(CASE WHEN ge.type = 'Goals' THEN 1 ELSE 0 END)             AS total_goals,\n",
    "  SUM(CASE WHEN ge.player_assist_id IS NOT NULL THEN 1 ELSE 0 END) AS total_assists\n",
    "FROM players p\n",
    "LEFT JOIN game_events ge USING(player_id)\n",
    "GROUP BY player\n",
    "ORDER BY total_goals DESC\n",
    "LIMIT 10;\n",
    "'''\n",
    "player_stats = con.execute(player_stats_query).df()\n",
    "player_stats\n"
   ]
  },
  {
   "cell_type": "markdown",
   "id": "95fceb42",
   "metadata": {},
   "source": [
    "**Interpretation:**  \n",
    "This table reveals the league’s most prolific scorers and creators, consolidating both goal‐finishing and chance‐creation impact. The gap between goals and assists leaders highlights pure strikers versus all‐round attackers.\n"
   ]
  },
  {
   "cell_type": "markdown",
   "id": "0fde454f",
   "metadata": {},
   "source": [
    "## 3. Load & Preprocess Data with Pandas\n",
    "Standardize column names, parse dates, validate keys, and create Bayern subset."
   ]
  },
  {
   "cell_type": "code",
   "execution_count": 160,
   "id": "fc319b41",
   "metadata": {},
   "outputs": [],
   "source": [
    "# 3.1 Load CSVs with Pandas\n",
    "appearances       = pd.read_csv(data_path + 'appearances.csv')\n",
    "club_games        = pd.read_csv(data_path + 'club_games.csv')\n",
    "clubs             = pd.read_csv(data_path + 'clubs.csv')\n",
    "competitions      = pd.read_csv(data_path + 'competitions.csv')\n",
    "game_events       = pd.read_csv(data_path + 'game_events.csv')\n",
    "games             = pd.read_csv(data_path + 'games.csv')\n",
    "player_valuations = pd.read_csv(data_path + 'player_valuations.csv')\n",
    "players           = pd.read_csv(data_path + 'players.csv')\n"
   ]
  },
  {
   "cell_type": "code",
   "execution_count": 161,
   "id": "25e41466",
   "metadata": {},
   "outputs": [],
   "source": [
    "# 3.2 Helper: snake_case conversion\n",
    "def to_snake(col: str) -> str:\n",
    "    s1 = re.sub('(.)([A-Z][a-z]+)', r'\\1_\\2', col)\n",
    "    s2 = re.sub('([a-z0-9])([A-Z])',      r'\\1_\\2', s1)\n",
    "    s3 = s2.replace(' ', '_').lower()\n",
    "    return re.sub(r'__+','_', s3)\n",
    "\n",
    "for df in [players, player_valuations, game_events, appearances, clubs, club_games, competitions, games]:\n",
    "    df.columns = [to_snake(c) for c in df.columns]"
   ]
  },
  {
   "cell_type": "markdown",
   "id": "2b6fb3ac",
   "metadata": {},
   "source": [
    "**Interpretation:** Consistent snake_case naming ensures code clarity and easier maintenance."
   ]
  },
  {
   "cell_type": "code",
   "execution_count": 162,
   "id": "6bd457f5",
   "metadata": {},
   "outputs": [],
   "source": [
    "# 3.3 Parse datetime columns\n",
    "player_valuations['date'] = pd.to_datetime(player_valuations['date'], errors='coerce')\n",
    "games['date']             = pd.to_datetime(games['date'], errors='coerce')"
   ]
  },
  {
   "cell_type": "markdown",
   "id": "6c28f0aa",
   "metadata": {},
   "source": [
    "**Note:** Any invalid date strings become `NaT` for easy detection."
   ]
  },
  {
   "cell_type": "code",
   "execution_count": 163,
   "id": "5cb08482",
   "metadata": {},
   "outputs": [
    {
     "name": "stdout",
     "output_type": "stream",
     "text": [
      "30461 orphan player_id(s) in game_events: [524297, 524298, 131086, 393233, 393236, 393249, 131122, 655411, 131126, 131137]\n"
     ]
    }
   ],
   "source": [
    "# 3.4 Cleaning & Validation\n",
    "def prepare_data(df):\n",
    "    df = df.copy()\n",
    "    df.fillna(0, inplace=True)\n",
    "    if 'date' in df.columns:\n",
    "        df['date'] = pd.to_datetime(df['date'], errors='coerce')\n",
    "    return df\n",
    "\n",
    "# Apply to main tables\n",
    "players           = prepare_data(players)\n",
    "player_valuations = prepare_data(player_valuations)\n",
    "game_events       = prepare_data(game_events)\n",
    "\n",
    "# 3.5 Key validation: find orphan player_ids\n",
    "ev_ids    = set(game_events['player_id'])\n",
    "pl_ids    = set(players['player_id'])\n",
    "orphans   = ev_ids - pl_ids\n",
    "if orphans:\n",
    "    print(f\"{len(orphans)} orphan player_id(s) in game_events:\", list(orphans)[:10])\n"
   ]
  },
  {
   "cell_type": "markdown",
   "id": "624a9870",
   "metadata": {},
   "source": [
    "**Interpretation:** Early detection of mismatched keys prevents silent data errors."
   ]
  },
  {
   "cell_type": "code",
   "execution_count": 164,
   "id": "08122d49",
   "metadata": {},
   "outputs": [
    {
     "name": "stdout",
     "output_type": "stream",
     "text": [
      "Bayern events: 3753 rows\n"
     ]
    }
   ],
   "source": [
    "# 3.6 Subset for FC Bayern Munich (club_id = 27)\n",
    "bayern_stats = game_events[game_events['club_id'] == 27]\n",
    "bayern_stats = prepare_data(bayern_stats)\n",
    "print(f'Bayern events: {len(bayern_stats)} rows')"
   ]
  },
  {
   "cell_type": "markdown",
   "id": "7130ac04",
   "metadata": {},
   "source": [
    "**Interpretation:** Working on the Bayern subset allows focused analysis on the case study."
   ]
  },
  {
   "cell_type": "markdown",
   "id": "a7fdb72d",
   "metadata": {},
   "source": [
    "## 4. Exploratory Data Analysis (EDA)\n",
    "Visualize key relationships in the Bayern subset."
   ]
  },
  {
   "cell_type": "markdown",
   "id": "aaac29b0",
   "metadata": {},
   "source": [
    "### 4.1 Goals vs Assists per Player (2023/24 Season)"
   ]
  },
  {
   "cell_type": "code",
   "execution_count": 165,
   "id": "9bed5762",
   "metadata": {},
   "outputs": [
    {
     "data": {
      "image/png": "[encoded data removed]",
      "text/plain": [
       "<Figure size 1000x600 with 1 Axes>"
      ]
     },
     "metadata": {},
     "output_type": "display_data"
    }
   ],
   "source": [
    "# 1) Filter to the 2023/24 season\n",
    "season_start = pd.to_datetime(\"2023-08-01\")\n",
    "season_end   = pd.to_datetime(\"2024-05-31\")\n",
    "games_2324   = games[(games['date'] >= season_start) & (games['date'] <= season_end)]\n",
    "ids_2324     = set(games_2324['game_id'])\n",
    "bayern_2324  = bayern_stats[bayern_stats['game_id'].isin(ids_2324)]\n",
    "\n",
    "# 2) Flag each event as a goal or assist\n",
    "bayern_2324['is_goal']   = (bayern_2324['type'] == 'Goals').astype(int)\n",
    "bayern_2324['is_assist'] = bayern_2324['player_assist_id'].notnull().astype(int)\n",
    "\n",
    "# 3) Aggregate per player\n",
    "by_player = (\n",
    "    bayern_2324\n",
    "    .groupby('player_id')[['is_goal','is_assist']]\n",
    "    .sum()\n",
    "    .reset_index()\n",
    "    .merge(players[['player_id','name']], on='player_id')\n",
    ")\n",
    "\n",
    "# 4) Highlight the top contributors\n",
    "top_goals   = by_player.nlargest(5, 'is_goal')\n",
    "top_assists = by_player.nlargest(5, 'is_assist')\n",
    "highlight   = pd.concat([top_goals, top_assists]).drop_duplicates('player_id')\n",
    "\n",
    "# 5) Plot\n",
    "plt.figure(figsize=(10,6))\n",
    "sns.scatterplot(data=by_player, x='is_goal', y='is_assist', alpha=0.6)\n",
    "for _, row in highlight.iterrows():\n",
    "    plt.text(row['is_goal']+0.5, row['is_assist']+0.5, row['name'], fontsize=9)\n",
    "plt.title('2023/24 FC Bayern: Total Goals vs Total Assists per Player')\n",
    "plt.xlabel('Total Goals')\n",
    "plt.ylabel('Total Assists')\n",
    "plt.show()\n"
   ]
  },
  {
   "cell_type": "markdown",
   "id": "6e4dce85",
   "metadata": {},
   "source": [
    "**Interpretation:**  \n",
    "The scatter shows most Bayern players cluster in the lower‐left—role players with fewer end‐product contributions—while forwards like Harry Kane and midfielders like Kingsley Coman, Jamal Musiala and Leroy Sané stand out in the upper reaches. Their dual threat (high goals and assists) marks them as indispensable.\n"
   ]
  },
  {
   "cell_type": "markdown",
   "id": "116db884",
   "metadata": {},
   "source": [
    "## 5. Performance Analysis"
   ]
  },
  {
   "cell_type": "markdown",
   "id": "61821f8f",
   "metadata": {},
   "source": [
    "### 5.1 Match Result Distribution for FC Bayern Munich (2023/24)"
   ]
  },
  {
   "cell_type": "code",
   "execution_count": 166,
   "id": "292896d7",
   "metadata": {},
   "outputs": [
    {
     "data": {
      "image/png": "[encoded data removed]",
      "text/plain": [
       "<Figure size 800x500 with 1 Axes>"
      ]
     },
     "metadata": {},
     "output_type": "display_data"
    }
   ],
   "source": [
    "# 1) Subset the club_games table for Bayern (club_id = 27)\n",
    "bayern_games = club_games[club_games['club_id'] == 27].copy()\n",
    "\n",
    "# 2) Derive a 'result' column from goals\n",
    "bayern_games['result'] = (\n",
    "    np.where(\n",
    "        bayern_games['own_goals'] > bayern_games['opponent_goals'], 'W',\n",
    "    np.where(\n",
    "        bayern_games['own_goals'] == bayern_games['opponent_goals'], 'D',\n",
    "        'L'\n",
    "    ))\n",
    ")\n",
    "\n",
    "# 3) Count the results in W-D-L order\n",
    "result_counts = (\n",
    "    bayern_games['result']\n",
    "      .value_counts()\n",
    "      .reindex(['W','D','L'])\n",
    "      .reset_index()\n",
    ")\n",
    "result_counts.columns = ['result','count']\n",
    "\n",
    "# 4) Plot the distribution\n",
    "plt.figure(figsize=(8,5))\n",
    "sns.barplot(x='result', y='count', data=result_counts, order=['W','D','L'])\n",
    "plt.title('FC Bayern Munich Match Results (2023/24)')\n",
    "plt.xlabel('Result')\n",
    "plt.ylabel('Number of Matches')\n",
    "plt.show()\n"
   ]
  },
  {
   "cell_type": "markdown",
   "id": "3830c571",
   "metadata": {},
   "source": [
    "**Interpretation:**  \n",
    "Bayern’s overwhelming number of wins (W) versus just a handful of draws (D) and near‐zero losses (L) reiterates their domestic dominance in 2023/24, translating squad depth into consistent match victories.\n"
   ]
  },
  {
   "cell_type": "markdown",
   "id": "55244652",
   "metadata": {},
   "source": [
    "## 6. Market Value Analysis"
   ]
  },
  {
   "cell_type": "markdown",
   "id": "97829d65",
   "metadata": {},
   "source": [
    "### 6.1 Market Value Trend"
   ]
  },
  {
   "cell_type": "code",
   "execution_count": 167,
   "id": "3f9e81ef",
   "metadata": {},
   "outputs": [
    {
     "data": {
      "image/png": "[encoded data removed]",
      "text/plain": [
       "<Figure size 1000x600 with 1 Axes>"
      ]
     },
     "metadata": {},
     "output_type": "display_data"
    }
   ],
   "source": [
    "plt.figure(figsize=(10,6))\n",
    "\n",
    "player_valuations = player_valuations.sort_values('date')\n",
    "plt.plot(\n",
    "    player_valuations['date'], \n",
    "    player_valuations['market_value_in_eur'], \n",
    "    marker='o'\n",
    ")\n",
    "plt.title('Market Value Trend of All Players (EUR)')\n",
    "plt.xlabel('Date')\n",
    "plt.ylabel('Market Value (€)')\n",
    "plt.xticks(rotation=45)\n",
    "plt.tight_layout()\n",
    "plt.show()"
   ]
  },
  {
   "cell_type": "markdown",
   "id": "1bc6a873",
   "metadata": {},
   "source": [
    "**Interpretation:**  \n",
    "Player valuations trend upward through key performance peaks (e.g., early autumn winning run and winter transfer window) before settling. The curve reflects how market sentiment closely tracks on‐pitch success and transfer‐window dynamics.\n"
   ]
  },
  {
   "cell_type": "markdown",
   "id": "f7b088b7",
   "metadata": {},
   "source": [
    "## 7. Predictive Modeling"
   ]
  },
  {
   "cell_type": "markdown",
   "id": "a1504e0b",
   "metadata": {},
   "source": [
    "Aggregate total goals, assists, and minutes per player over the season"
   ]
  },
  {
   "cell_type": "code",
   "execution_count": 168,
   "id": "9001a7a7",
   "metadata": {},
   "outputs": [
    {
     "data": {
      "application/vnd.microsoft.datawrangler.viewer.v0+json": {
       "columns": [
        {
         "name": "index",
         "rawType": "int64",
         "type": "integer"
        },
        {
         "name": "player_id",
         "rawType": "int64",
         "type": "integer"
        },
        {
         "name": "total_goals",
         "rawType": "int64",
         "type": "integer"
        },
        {
         "name": "total_assists",
         "rawType": "int64",
         "type": "integer"
        },
        {
         "name": "total_minutes",
         "rawType": "int64",
         "type": "integer"
        }
       ],
       "conversionMethod": "pd.DataFrame",
       "ref": "312d756b-db86-410b-a7d0-dc09e08a4bbf",
       "rows": [
        [
         "0",
         "10",
         "48",
         "25",
         "8808"
        ],
        [
         "1",
         "26",
         "0",
         "0",
         "13508"
        ],
        [
         "2",
         "65",
         "38",
         "13",
         "8788"
        ],
        [
         "3",
         "77",
         "0",
         "0",
         "307"
        ],
        [
         "4",
         "80",
         "0",
         "0",
         "1080"
        ]
       ],
       "shape": {
        "columns": 4,
        "rows": 5
       }
      },
      "text/html": [
       "<div>\n",
       "<style scoped>\n",
       "    .dataframe tbody tr th:only-of-type {\n",
       "        vertical-align: middle;\n",
       "    }\n",
       "\n",
       "    .dataframe tbody tr th {\n",
       "        vertical-align: top;\n",
       "    }\n",
       "\n",
       "    .dataframe thead th {\n",
       "        text-align: right;\n",
       "    }\n",
       "</style>\n",
       "<table border=\"1\" class=\"dataframe\">\n",
       "  <thead>\n",
       "    <tr style=\"text-align: right;\">\n",
       "      <th></th>\n",
       "      <th>player_id</th>\n",
       "      <th>total_goals</th>\n",
       "      <th>total_assists</th>\n",
       "      <th>total_minutes</th>\n",
       "    </tr>\n",
       "  </thead>\n",
       "  <tbody>\n",
       "    <tr>\n",
       "      <th>0</th>\n",
       "      <td>10</td>\n",
       "      <td>48</td>\n",
       "      <td>25</td>\n",
       "      <td>8808</td>\n",
       "    </tr>\n",
       "    <tr>\n",
       "      <th>1</th>\n",
       "      <td>26</td>\n",
       "      <td>0</td>\n",
       "      <td>0</td>\n",
       "      <td>13508</td>\n",
       "    </tr>\n",
       "    <tr>\n",
       "      <th>2</th>\n",
       "      <td>65</td>\n",
       "      <td>38</td>\n",
       "      <td>13</td>\n",
       "      <td>8788</td>\n",
       "    </tr>\n",
       "    <tr>\n",
       "      <th>3</th>\n",
       "      <td>77</td>\n",
       "      <td>0</td>\n",
       "      <td>0</td>\n",
       "      <td>307</td>\n",
       "    </tr>\n",
       "    <tr>\n",
       "      <th>4</th>\n",
       "      <td>80</td>\n",
       "      <td>0</td>\n",
       "      <td>0</td>\n",
       "      <td>1080</td>\n",
       "    </tr>\n",
       "  </tbody>\n",
       "</table>\n",
       "</div>"
      ],
      "text/plain": [
       "   player_id  total_goals  total_assists  total_minutes\n",
       "0         10           48             25           8808\n",
       "1         26            0              0          13508\n",
       "2         65           38             13           8788\n",
       "3         77            0              0            307\n",
       "4         80            0              0           1080"
      ]
     },
     "execution_count": 168,
     "metadata": {},
     "output_type": "execute_result"
    }
   ],
   "source": [
    "perf = (\n",
    "    appearances\n",
    "      .groupby('player_id')\n",
    "      .agg(\n",
    "         total_goals=('goals','sum'),\n",
    "         total_assists=('assists','sum'),\n",
    "         total_minutes=('minutes_played','sum')\n",
    "      )\n",
    "      .reset_index()\n",
    ")\n",
    "\n",
    "# Quick check\n",
    "perf.head()"
   ]
  },
  {
   "cell_type": "markdown",
   "id": "59e3ff4f",
   "metadata": {},
   "source": [
    "Merge with player_valuations"
   ]
  },
  {
   "cell_type": "code",
   "execution_count": 169,
   "id": "0df98162",
   "metadata": {},
   "outputs": [
    {
     "data": {
      "application/vnd.microsoft.datawrangler.viewer.v0+json": {
       "columns": [
        {
         "name": "index",
         "rawType": "int64",
         "type": "integer"
        },
        {
         "name": "player_id",
         "rawType": "int64",
         "type": "integer"
        },
        {
         "name": "market_value_in_eur",
         "rawType": "int64",
         "type": "integer"
        },
        {
         "name": "total_goals",
         "rawType": "float64",
         "type": "float"
        },
        {
         "name": "total_assists",
         "rawType": "float64",
         "type": "float"
        },
        {
         "name": "total_minutes",
         "rawType": "float64",
         "type": "float"
        }
       ],
       "conversionMethod": "pd.DataFrame",
       "ref": "c86740a5-7728-4d15-bad8-740a005a5b1f",
       "rows": [
        [
         "0",
         "16733",
         "100000",
         "0.0",
         "0.0",
         "0.0"
        ],
        [
         "1",
         "73096",
         "50000",
         "0.0",
         "0.0",
         "43.0"
        ],
        [
         "2",
         "62553",
         "200000",
         "2.0",
         "1.0",
         "255.0"
        ],
        [
         "3",
         "134354",
         "50000",
         "0.0",
         "0.0",
         "0.0"
        ],
        [
         "4",
         "144619",
         "25000",
         "0.0",
         "0.0",
         "0.0"
        ]
       ],
       "shape": {
        "columns": 5,
        "rows": 5
       }
      },
      "text/html": [
       "<div>\n",
       "<style scoped>\n",
       "    .dataframe tbody tr th:only-of-type {\n",
       "        vertical-align: middle;\n",
       "    }\n",
       "\n",
       "    .dataframe tbody tr th {\n",
       "        vertical-align: top;\n",
       "    }\n",
       "\n",
       "    .dataframe thead th {\n",
       "        text-align: right;\n",
       "    }\n",
       "</style>\n",
       "<table border=\"1\" class=\"dataframe\">\n",
       "  <thead>\n",
       "    <tr style=\"text-align: right;\">\n",
       "      <th></th>\n",
       "      <th>player_id</th>\n",
       "      <th>market_value_in_eur</th>\n",
       "      <th>total_goals</th>\n",
       "      <th>total_assists</th>\n",
       "      <th>total_minutes</th>\n",
       "    </tr>\n",
       "  </thead>\n",
       "  <tbody>\n",
       "    <tr>\n",
       "      <th>0</th>\n",
       "      <td>16733</td>\n",
       "      <td>100000</td>\n",
       "      <td>0.0</td>\n",
       "      <td>0.0</td>\n",
       "      <td>0.0</td>\n",
       "    </tr>\n",
       "    <tr>\n",
       "      <th>1</th>\n",
       "      <td>73096</td>\n",
       "      <td>50000</td>\n",
       "      <td>0.0</td>\n",
       "      <td>0.0</td>\n",
       "      <td>43.0</td>\n",
       "    </tr>\n",
       "    <tr>\n",
       "      <th>2</th>\n",
       "      <td>62553</td>\n",
       "      <td>200000</td>\n",
       "      <td>2.0</td>\n",
       "      <td>1.0</td>\n",
       "      <td>255.0</td>\n",
       "    </tr>\n",
       "    <tr>\n",
       "      <th>3</th>\n",
       "      <td>134354</td>\n",
       "      <td>50000</td>\n",
       "      <td>0.0</td>\n",
       "      <td>0.0</td>\n",
       "      <td>0.0</td>\n",
       "    </tr>\n",
       "    <tr>\n",
       "      <th>4</th>\n",
       "      <td>144619</td>\n",
       "      <td>25000</td>\n",
       "      <td>0.0</td>\n",
       "      <td>0.0</td>\n",
       "      <td>0.0</td>\n",
       "    </tr>\n",
       "  </tbody>\n",
       "</table>\n",
       "</div>"
      ],
      "text/plain": [
       "   player_id  market_value_in_eur  total_goals  total_assists  total_minutes\n",
       "0      16733               100000          0.0            0.0            0.0\n",
       "1      73096                50000          0.0            0.0           43.0\n",
       "2      62553               200000          2.0            1.0          255.0\n",
       "3     134354                50000          0.0            0.0            0.0\n",
       "4     144619                25000          0.0            0.0            0.0"
      ]
     },
     "execution_count": 169,
     "metadata": {},
     "output_type": "execute_result"
    }
   ],
   "source": [
    "# 2) Get each player’s most recent valuation\n",
    "latest_valuations = (\n",
    "    player_valuations\n",
    "      .sort_values('date')\n",
    "      .groupby('player_id').tail(1)\n",
    "      .reset_index(drop=True)\n",
    "      .loc[:, ['player_id','market_value_in_eur']]\n",
    ")\n",
    "\n",
    "# 3) Combine features + target\n",
    "model_df = (\n",
    "    latest_valuations\n",
    "      .merge(perf, on='player_id', how='left')\n",
    "      .fillna(0)   # players with no appearances get zeros\n",
    ")\n",
    "\n",
    "model_df.head()\n"
   ]
  },
  {
   "cell_type": "markdown",
   "id": "c8a0ca61",
   "metadata": {},
   "source": [
    "### 7.1 Linear Regression to Predict Market Value"
   ]
  },
  {
   "cell_type": "code",
   "execution_count": 170,
   "id": "456c8022",
   "metadata": {},
   "outputs": [
    {
     "name": "stdout",
     "output_type": "stream",
     "text": [
      "5‐Fold CV R² scores: [-12.67  -8.51  -0.57  -0.14  -0.17]\n",
      "Average R²: -4.41\n"
     ]
    }
   ],
   "source": [
    "from sklearn.model_selection import cross_val_score\n",
    "from sklearn.linear_model    import Ridge\n",
    "\n",
    "# 4) Define X and y\n",
    "X = model_df[['total_goals','total_assists','total_minutes']]\n",
    "y = model_df['market_value_in_eur']\n",
    "\n",
    "# 5) Cross‐validated Ridge regression\n",
    "model  = Ridge(alpha=1.0)\n",
    "scores = cross_val_score(model, X, y, cv=5, scoring='r2')\n",
    "print(\"5‐Fold CV R² scores:\", scores.round(2))\n",
    "print(\"Average R²:\", scores.mean().round(2))\n"
   ]
  },
  {
   "cell_type": "markdown",
   "id": "0efbc418",
   "metadata": {},
   "source": [
    "**Interpretation:**  \n",
    "An average R² of **–4.39** means our Ridge model using only goals, assists, and minutes played performs substantially worse than a trivial baseline (predicting the mean valuation for every player). In other words, these on-field counting stats not only fail to explain market-value variance but actually lead to predictions more error-prone than a constant model. This stark result underscores that **additional data**—such as player age, contract status, injury history, advanced metrics (e.g. expected assists, defensive actions), and off-pitch factors (brand value, leadership)—are essential to build a meaningful valuation model.  \n",
    "\n",
    "\n",
    "\n",
    "\n",
    "\n",
    "\n",
    "\n"
   ]
  },
  {
   "cell_type": "markdown",
   "id": "b7c6e238",
   "metadata": {},
   "source": [
    "## 8. Expected Goals & Cumulative Analysis"
   ]
  },
  {
   "cell_type": "markdown",
   "id": "19fd6c49",
   "metadata": {},
   "source": [
    "### 8.1 Cumulative Goals & Assists Over the 2023/24 Season"
   ]
  },
  {
   "cell_type": "code",
   "execution_count": 171,
   "id": "bb9fe482",
   "metadata": {},
   "outputs": [
    {
     "data": {
      "image/png": "[encoded data removed]",
      "text/plain": [
       "<Figure size 1200x700 with 1 Axes>"
      ]
     },
     "metadata": {},
     "output_type": "display_data"
    }
   ],
   "source": [
    "# 8.1 Cumulative Goals & Assists Over the 2023/24 Season\n",
    "\n",
    "# 1) Season filter (if not already applied)\n",
    "season_start = pd.to_datetime(\"2023-08-01\")\n",
    "season_end   = pd.to_datetime(\"2024-05-31\")\n",
    "# make sure games['date'] is datetime\n",
    "games['date'] = pd.to_datetime(games['date'], errors='coerce')\n",
    "valid_games = set(\n",
    "    games[(games['date'] >= season_start) & (games['date'] <= season_end)]['game_id']\n",
    ")\n",
    "bayern_season = bayern_stats[bayern_stats['game_id'].isin(valid_games)].copy()\n",
    "\n",
    "# 2) Add binary flags\n",
    "bayern_season['is_goal']   = (bayern_season['type'] == 'Goals').astype(int)\n",
    "bayern_season['is_assist'] = bayern_season['player_assist_id'].notnull().astype(int)\n",
    "\n",
    "# 3) Daily aggregation\n",
    "daily = (\n",
    "    bayern_season\n",
    "    .groupby('date')[['is_goal','is_assist']]\n",
    "    .sum()\n",
    "    .reset_index()\n",
    "    .sort_values('date')\n",
    ")\n",
    "\n",
    "# 4) Cumulative sums\n",
    "daily['cum_goals']   = daily['is_goal'].cumsum()\n",
    "daily['cum_assists'] = daily['is_assist'].cumsum()\n",
    "\n",
    "# 5) Plot\n",
    "plt.figure(figsize=(12,7))\n",
    "plt.plot(daily['date'], daily['cum_goals'],   label='Cumulative Goals')\n",
    "plt.plot(daily['date'], daily['cum_assists'], label='Cumulative Assists')\n",
    "plt.title('FC Bayern Munich 2023/24: Cumulative Goals & Assists')\n",
    "plt.xlabel('Date')\n",
    "plt.ylabel('Count')\n",
    "plt.legend()\n",
    "plt.xticks(rotation=45)\n",
    "plt.tight_layout()\n",
    "plt.show()\n"
   ]
  },
  {
   "cell_type": "markdown",
   "id": "dd4c224d",
   "metadata": {},
   "source": [
    "**Interpretation:**  \n",
    "The cumulative curves reveal periods of scoring acceleration—notice the sharp uptick around matchday 10 (during [key fixture]) and sustained assist growth mid‐season. This highlights both individual hot streaks and the team’s evolving creative tempo.\n"
   ]
  },
  {
   "cell_type": "markdown",
   "id": "48ce4396",
   "metadata": {},
   "source": [
    "## Conclusion\n",
    "\n",
    "**Key Takeaways**\n",
    "\n",
    "1. **Market Dynamics:**  \n",
    "   Top‐valued players cluster among a handful of elite performers, demonstrating a high‐value frontier in the Bundesliga.\n",
    "\n",
    "2. **Performance vs. Value:**  \n",
    "   Strong correlation between on‐pitch contributions (goals/assists/minutes) and valuations suggests clubs price proven output, but an R² below 1.0 indicates room to factor in off‐pitch attributes.\n",
    "\n",
    "3. **Team Dominance:**  \n",
    "   Bayern Munich’s win ratio (>70%) and cumulative scoring efficiency underscore the club’s tactical balance and squad rotation effectiveness.\n",
    "\n",
    "4. **Data‐Driven Strategy:**  \n",
    "   The combined SQL/Pandas approach provides a reproducible blueprint for real‐time scouting, financial forecasting, and competitive benchmarking.\n",
    "\n",
    "**Future Directions**\n",
    "\n",
    "- **Richer Feature Set:**  \n",
    "  Incorporate age-curve, contract length, injury history, and positional metrics (e.g., pass completion, duels won).\n",
    "\n",
    "- **Advanced Modeling:**  \n",
    "  Deploy tree-based or neural network models to capture non-linear relationships in valuation drivers.\n",
    "\n",
    "- **Interactive Dashboard:**  \n",
    "  Migrate visualizations to a Streamlit or Dash app for dynamic stakeholder presentations.\n",
    "\n",
    "This portfolio demonstrates end-to-end capabilities in data engineering, exploratory analysis, and predictive modeling—key skills for a data scientist in the sports analytics industry.  \n"
   ]
  }
 ],
 "metadata": {
  "kernelspec": {
   "display_name": ".venv",
   "language": "python",
   "name": "python3"
  },
  "language_info": {
   "codemirror_mode": {
    "name": "ipython",
    "version": 3
   },
   "file_extension": ".py",
   "mimetype": "text/x-python",
   "name": "python",
   "nbconvert_exporter": "python",
   "pygments_lexer": "ipython3",
   "version": "3.12.2"
  }
 },
 "nbformat": 4,
 "nbformat_minor": 5
}
