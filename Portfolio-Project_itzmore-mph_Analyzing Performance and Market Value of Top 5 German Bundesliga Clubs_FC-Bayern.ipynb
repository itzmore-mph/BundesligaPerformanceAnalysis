{
 "cells": [
  {
   "cell_type": "markdown",
   "metadata": {},
   "source": [
    "# Project Title: Analyzing Performance and Market Value of Top 5 German Bundesliga Clubs (Season 2023-2024)\n",
    "\n",
    "# 1. Introduction\n",
    "\n",
    "As the editor of this portfolio project for itzmore | Data Empowers, this analysis delves into \n",
    "\n",
    "*FC Bayern Munich*'s \n",
    "\n",
    "performance and market dynamics during the 2023-2024 season in the German Bundesliga. By leveraging data analytics techniques and tools such as Python, SQL, and R, this project aims to provide actionable insights for the club and its stakeholders, identifying key drivers of success and forecasting future outcomes.\n",
    "\n",
    "Last Updated: 2024-04-13 by Moritz Philipp Haaf, BSc (WU) MA - Founder/CEO of itzmore | Data Empowers e.U.\n",
    "\n",
    "*Contact:*\n",
    "Mail:       moritz.haaf@itzmore.net\n",
    "Tel.:       +43 664 404 38 64\n",
    "Website:    itzmore.net"
   ]
  },
  {
   "cell_type": "markdown",
   "metadata": {},
   "source": [
    "# 2. Methodology\n",
    "\n",
    "2.1 Data Collection:\n",
    "\n",
    "Data was sourced from the Bundesliga official website, Kaggle datasets, and sports APIs, covering player statistics, match results, club information, and market values.\n",
    "\n",
    "2.2 Data Preparation:\n",
    "\n",
    "Data underwent cleaning for consistency and accuracy, involving missing value treatment, data type conversions, and dataset merging.\n",
    "\n",
    "2.3 Exploratory Data Analysis (EDA):\n",
    "\n",
    "Used summary statistics and visualization techniques to analyze player performance metrics and market value trends. A correlation analysis was also performed.\n",
    "\n",
    "2.4 Performance Analysis:\n",
    "\n",
    "Assessed FC Bayern Munich's performance through comparative analysis of wins, losses, and draws. Visualizations provided insights into match outcomes and trends.\n",
    "\n",
    "2.5 Market Value Analysis:\n",
    "\n",
    "Market value changes over the season were visualized, and factors affecting these changes were analyzed.\n",
    "\n",
    "2.6 Predictive Modeling:\n",
    "\n",
    "Predictive models were trained to forecast future market values of players. Model accuracy and reliability were assessed using evaluation metrics.\n",
    "\n",
    "2.7 SQL Analysis:\n",
    "\n",
    "SQL was used to extract performance and market value data for deeper insights.\n",
    "\n",
    "2.8 R Programming Analysis:\n",
    "\n",
    "Statistical analysis and data visualizations using R helped enhance understanding of the club's dynamics.\n",
    "\n",
    "2.9 Conclusion:\n",
    "\n",
    "This methodological approach aimed to systematically analyze FC Bayern Munich's performance and market dynamics.\n",
    "\n"
   ]
  },
  {
   "cell_type": "markdown",
   "metadata": {},
   "source": [
    "# 3. Data Collection and Preparation\n",
    "\n",
    "3.1 Importing Necessary Libraries"
   ]
  },
  {
   "cell_type": "code",
   "execution_count": 1,
   "metadata": {},
   "outputs": [
    {
     "ename": "ModuleNotFoundError",
     "evalue": "No module named 'matplotlib'",
     "output_type": "error",
     "traceback": [
      "\u001b[0;31m---------------------------------------------------------------------------\u001b[0m",
      "\u001b[0;31mModuleNotFoundError\u001b[0m                       Traceback (most recent call last)",
      "Cell \u001b[0;32mIn[1], line 4\u001b[0m\n\u001b[1;32m      2\u001b[0m \u001b[38;5;28;01mimport\u001b[39;00m \u001b[38;5;21;01mpandas\u001b[39;00m \u001b[38;5;28;01mas\u001b[39;00m \u001b[38;5;21;01mpd\u001b[39;00m\n\u001b[1;32m      3\u001b[0m \u001b[38;5;28;01mimport\u001b[39;00m \u001b[38;5;21;01mnumpy\u001b[39;00m \u001b[38;5;28;01mas\u001b[39;00m \u001b[38;5;21;01mnp\u001b[39;00m\n\u001b[0;32m----> 4\u001b[0m \u001b[38;5;28;01mimport\u001b[39;00m \u001b[38;5;21;01mmatplotlib\u001b[39;00m\u001b[38;5;21;01m.\u001b[39;00m\u001b[38;5;21;01mpyplot\u001b[39;00m \u001b[38;5;28;01mas\u001b[39;00m \u001b[38;5;21;01mplt\u001b[39;00m\n\u001b[1;32m      5\u001b[0m \u001b[38;5;28;01mimport\u001b[39;00m \u001b[38;5;21;01mseaborn\u001b[39;00m \u001b[38;5;28;01mas\u001b[39;00m \u001b[38;5;21;01msns\u001b[39;00m\n\u001b[1;32m      6\u001b[0m \u001b[38;5;28;01mimport\u001b[39;00m \u001b[38;5;21;01mplotly\u001b[39;00m\u001b[38;5;21;01m.\u001b[39;00m\u001b[38;5;21;01mexpress\u001b[39;00m \u001b[38;5;28;01mas\u001b[39;00m \u001b[38;5;21;01mpx\u001b[39;00m\n",
      "\u001b[0;31mModuleNotFoundError\u001b[0m: No module named 'matplotlib'"
     ]
    }
   ],
   "source": [
    "# Importing necessary libraries\n",
    "import pandas as pd\n",
    "import numpy as np\n",
    "import matplotlib.pyplot as plt\n",
    "import seaborn as sns\n",
    "import plotly.express as px\n",
    "from plotly.subplots import make_subplots\n",
    "import plotly.graph_objects as go\n",
    "import plotly.io as pio\n",
    "from datetime import datetime\n",
    "\n",
    "\n",
    "\n",
    "\n"
   ]
  },
  {
   "cell_type": "markdown",
   "metadata": {},
   "source": [
    "3.2 Setting Default Renderer for Plotly"
   ]
  },
  {
   "cell_type": "code",
   "execution_count": null,
   "metadata": {},
   "outputs": [],
   "source": [
    "# Setting default renderer for Plotly\n",
    "pio.renderers.default = 'notebook'"
   ]
  },
  {
   "cell_type": "markdown",
   "metadata": {},
   "source": [
    "3.3 Loading CSV Files"
   ]
  },
  {
   "cell_type": "code",
   "execution_count": null,
   "metadata": {},
   "outputs": [],
   "source": [
    "# File path to CSV files\n",
    "file_path = \"itzmore-mph/portfolio-github-mph/Football-Analysis_German-Bundesliga/\"\n",
    "\n",
    "# List of data files loaded\n",
    "appearances = pd.read_csv(file_path + \"appearances.csv\")\n",
    "club_games = pd.read_csv(file_path + \"club_games.csv\")\n",
    "clubs = pd.read_csv(file_path + \"clubs.csv\")\n",
    "competitions = pd.read_csv(file_path + \"competitions.csv\")\n",
    "game_events = pd.read_csv(file_path + \"game_events.csv\")\n",
    "game_lineups = pd.read_csv(file_path + \"game_lineups.csv\")\n",
    "games = pd.read_csv(file_path + \"games.csv\")\n",
    "player_valuations = pd.read_csv(file_path + \"player_valuations.csv\")\n",
    "players = pd.read_csv(file_path + \"players.csv\")"
   ]
  },
  {
   "cell_type": "markdown",
   "metadata": {},
   "source": [
    "# 4. Enhanced Data Overview\n",
    "\n",
    "4.1 Detailed Dataset Descriptions"
   ]
  },
  {
   "cell_type": "code",
   "execution_count": null,
   "metadata": {},
   "outputs": [],
   "source": [
    "print(\"Detailed description of the 'players' dataset:\")\n",
    "players.info()\n",
    "print(players.describe())\n",
    "\n"
   ]
  },
  {
   "cell_type": "markdown",
   "metadata": {},
   "source": [
    "# 5. Dynamic Team Analysis Setup\n",
    "\n",
    "5.1 Selecting Team and Season for Detailed Analysis"
   ]
  },
  {
   "cell_type": "code",
   "execution_count": null,
   "metadata": {},
   "outputs": [],
   "source": [
    "# Allowing dynamic selection of team and season\n",
    "team_name = 'FC Bayern Munich'  # This can be parameterized for interactive selection\n",
    "season_year = 2023\n",
    "\n",
    "selected_team_data = filter_by_team_and_season(data['players'], team_name, season_year)\n",
    "print(f\"Analysis for {team_name} in the {season_year}/{season_year+1} season:\")\n"
   ]
  },
  {
   "cell_type": "markdown",
   "metadata": {},
   "source": [
    "# 6. Exploratory Data Analysis (EDA)\n",
    "\n",
    "6.1 Summary Statistics"
   ]
  },
  {
   "cell_type": "code",
   "execution_count": null,
   "metadata": {},
   "outputs": [],
   "source": [
    "# Python code\n",
    "summary_statistics = player_valuations.describe()\n",
    "print(summary_statistics)\n"
   ]
  },
  {
   "cell_type": "markdown",
   "metadata": {},
   "source": [
    "6.2 Visualization: Interactive Market Value Trend\n",
    "\n",
    "Using Plotly for dynamic, interactive visualizations:"
   ]
  },
  {
   "cell_type": "code",
   "execution_count": null,
   "metadata": {},
   "outputs": [],
   "source": [
    "fig = px.line(selected_team_data, x='date', y='market_value_eur', title=f'Market Value Trends for {team_name}')\n",
    "fig.show()\n",
    "\n"
   ]
  },
  {
   "cell_type": "markdown",
   "metadata": {},
   "source": [
    "6.3 Correlation Analysis\n",
    "\n",
    "Visualizing the correlation matrix to identify relationships:"
   ]
  },
  {
   "cell_type": "code",
   "execution_count": null,
   "metadata": {},
   "outputs": [],
   "source": [
    "correlation_matrix = player_valuations.corr()\n",
    "sns.heatmap(correlation_matrix, annot=True, cmap='coolwarm', fmt=\".2f\")\n",
    "plt.title('Correlation Matrix')\n",
    "plt.show()\n"
   ]
  },
  {
   "cell_type": "markdown",
   "metadata": {},
   "source": [
    "Productivity and Discipline Metrics"
   ]
  },
  {
   "cell_type": "code",
   "execution_count": null,
   "metadata": {},
   "outputs": [],
   "source": [
    "# Calculating and visualizing productivity and discipline\n",
    "players['productivity'] = players['goals'] + players['assists']\n",
    "players['discipline_score'] = players['yellow_cards'] + 2 * players['red_cards']\n",
    "\n",
    "fig = px.scatter(players, x='productivity', y='discipline_score', color='age',\n",
    "                 size='market_value_eur', hover_data=['player_name'],\n",
    "                 title='Player Productivity vs. Discipline')\n",
    "fig.show()\n"
   ]
  },
  {
   "cell_type": "markdown",
   "metadata": {},
   "source": [
    "Interpretation:\n",
    "Summary statistics provide insights into player appearances and market value trends.\n",
    "Visualization of market value trends helps understand the fluctuation in market values over time.\n",
    "Correlation analysis helps identify relationships between different variables, such as player performance metrics and market values."
   ]
  },
  {
   "cell_type": "markdown",
   "metadata": {},
   "source": [
    "# 7. Performance Analysis\n",
    "\n",
    "7.1 Comparative Analysis of Key Performance Indicators\n",
    "\n",
    "Using bar plots to visualize performance metrics:"
   ]
  },
  {
   "cell_type": "code",
   "execution_count": null,
   "metadata": {},
   "outputs": [],
   "source": [
    "sns.barplot(x=['Wins', 'Losses', 'Draws'], y=[wins, losses, draws], palette='viridis')\n",
    "plt.title('Performance Metrics of FC Bayern Munich')\n",
    "plt.show()\n"
   ]
  },
  {
   "cell_type": "markdown",
   "metadata": {},
   "source": [
    "7.2 Match Results Visualization"
   ]
  },
  {
   "cell_type": "code",
   "execution_count": null,
   "metadata": {},
   "outputs": [],
   "source": [
    "# Python code\n",
    "plt.figure(figsize=(10, 6))\n",
    "sns.barplot(x=['Wins', 'Losses', 'Draws'], y=[wins, losses, draws], palette='viridis')\n",
    "plt.xlabel('Performance Metrics')\n",
    "plt.ylabel('Count')\n",
    "plt.title('Performance Metrics of FC Bayern Munich')\n",
    "plt.show()\n"
   ]
  },
  {
   "cell_type": "markdown",
   "metadata": {},
   "source": [
    "Interpretation:\n",
    "Analyzing total matches, wins, losses, draws, and win percentage provides insights into the club's performance in the Bundesliga.\n",
    "Comparing performance metrics with other clubs helps identify strengths and weaknesses."
   ]
  },
  {
   "cell_type": "markdown",
   "metadata": {},
   "source": [
    "# 8. Market Value Analysis\n",
    "\n",
    "8.1 Visualization of Market Value Changes Over Time\n",
    "\n",
    "Visual consistency in line plots:"
   ]
  },
  {
   "cell_type": "code",
   "execution_count": null,
   "metadata": {},
   "outputs": [],
   "source": [
    "sns.lineplot(x='Date', y='Market_Value', data=bayern_valuations, color='b')\n",
    "plt.title('Market Value Trend of FC Bayern Munich')\n",
    "plt.xticks(rotation=45)\n",
    "plt.grid(True)\n",
    "plt.show()\n"
   ]
  },
  {
   "cell_type": "markdown",
   "metadata": {},
   "source": [
    "8.2 Factors Influencing Market Value Fluctuation\n",
    "\n",
    "Scatter plot to explore the relationship between performance metrics and market values:"
   ]
  },
  {
   "cell_type": "code",
   "execution_count": null,
   "metadata": {},
   "outputs": [],
   "source": [
    "sns.scatterplot(x='Performance_Metric', y='Market_Value', data=bayern_valuations, hue='Player_Position')\n",
    "plt.title('Factors Influencing Market Value Fluctuations')\n",
    "plt.show()\n"
   ]
  },
  {
   "cell_type": "markdown",
   "metadata": {},
   "source": [
    "Interpretation:\n",
    "Analyzing market value trends provides insights into the club's financial health and player valuation dynamics.\n",
    "Understanding factors influencing market value fluctuations helps identify investment opportunities and risks."
   ]
  },
  {
   "cell_type": "markdown",
   "metadata": {},
   "source": [
    "# 9. Predictive Modeling\n",
    "\n",
    "9.1 Model Evaluation\n",
    "\n",
    "Plotting actual vs. predicted values to evaluate model performance:"
   ]
  },
  {
   "cell_type": "code",
   "execution_count": null,
   "metadata": {},
   "outputs": [],
   "source": [
    "# Python code\n",
    "plt.plot(y_test, label='Actual')\n",
    "plt.plot(y_pred, label='Predicted')\n",
    "plt.title('Actual vs. Predicted Market Value')\n",
    "plt.legend()\n",
    "plt.show()\n"
   ]
  },
  {
   "cell_type": "markdown",
   "metadata": {},
   "source": [
    "9.2 Forecasting Future Market Values\n",
    "\n",
    "Forecasting future market values to aid strategic planning:"
   ]
  },
  {
   "cell_type": "code",
   "execution_count": null,
   "metadata": {},
   "outputs": [],
   "source": [
    "plt.plot(bayern_valuations['Date'], bayern_valuations['Market_Value'], label='Actual')\n",
    "plt.plot(future_dates, future_forecast, label='Forecast')\n",
    "plt.title('Forecasting Future Market Values of FC Bayern Munich')\n",
    "plt.legend()\n",
    "plt.grid(True)\n",
    "plt.show()\n"
   ]
  },
  {
   "cell_type": "markdown",
   "metadata": {},
   "source": [
    "Interpretation:\n",
    "Predictive modeling techniques enable forecasting of future market values based on historical data and performance metrics.\n",
    "Forecasting future market values helps in strategic planning and decision-making for player transfers and contract negotiations."
   ]
  },
  {
   "cell_type": "markdown",
   "metadata": {},
   "source": [
    "# 10. SQL Analysis\n",
    "\n",
    "This section leverages SQL to extract specific performance metrics and market value data, providing direct insights from the database.\n",
    "\n",
    "10.1 Querying Performance Metrics:"
   ]
  },
  {
   "cell_type": "code",
   "execution_count": null,
   "metadata": {
    "vscode": {
     "languageId": "sql"
    }
   },
   "outputs": [],
   "source": [
    "-- Extract average performance metrics for FC Bayern Munich\n",
    "SELECT\n",
    "    AVG(goals_scored) AS avg_goals_scored,\n",
    "    AVG(assists) AS avg_assists,\n",
    "    AVG(shots_on_target) AS avg_shots_on_target\n",
    "FROM\n",
    "    matches\n",
    "WHERE\n",
    "    team = 'FC Bayern Munich';\n"
   ]
  },
  {
   "cell_type": "markdown",
   "metadata": {},
   "source": [
    "Interpretation:\n",
    "\n",
    "This query provides an average of key performance indicators such as goals scored, assists, and shots on target for FC Bayern Munich. Understanding these averages helps in assessing the team's offensive effectiveness and can be used to compare with other seasons or teams in the Bundesliga."
   ]
  },
  {
   "cell_type": "markdown",
   "metadata": {
    "vscode": {
     "languageId": "sql"
    }
   },
   "source": [
    "10.2 Extracting Market Value Data"
   ]
  },
  {
   "cell_type": "code",
   "execution_count": null,
   "metadata": {
    "vscode": {
     "languageId": "sql"
    }
   },
   "outputs": [],
   "source": [
    "-- Retrieve date and market value for players from FC Bayern Munich\n",
    "SELECT\n",
    "    Date,\n",
    "    Market_Value\n",
    "FROM\n",
    "    player_valuations\n",
    "WHERE\n",
    "    Club = 'FC Bayern Munich';\n"
   ]
  },
  {
   "cell_type": "markdown",
   "metadata": {},
   "source": [
    "Interpretation:\n",
    "\n",
    "This query fetches the historical market values of players, allowing us to analyze how player valuations have changed over time. This can be crucial for understanding investment trends, player development impact, and financial planning for future seasons."
   ]
  },
  {
   "cell_type": "markdown",
   "metadata": {},
   "source": [
    "# 11. R Programming Analysis\n",
    "\n",
    "Utilizing R for statistical analysis and visualization provides a robust framework for understanding complex data relationships and trends.\n",
    "\n",
    "11.1 Statistical Analysis"
   ]
  },
  {
   "cell_type": "code",
   "execution_count": null,
   "metadata": {
    "vscode": {
     "languageId": "ruby"
    }
   },
   "outputs": [],
   "source": [
    "# Load the Bayern Munich data\n",
    "bayern_data <- read.csv(\"bayern_data.csv\")\n",
    "\n",
    "# Perform a summary of key statistics\n",
    "summary(bayern_data)\n"
   ]
  },
  {
   "cell_type": "markdown",
   "metadata": {},
   "source": [
    "Interpretation:\n",
    "\n",
    "The summary function in R provides a quick overview of the central tendencies, dispersion, and shape of the dataset's distribution. This analysis helps identify outliers, understand distribution properties, and get a quick overview of data points like mean, median, min, and max values across various metrics such as player market values and performance stats."
   ]
  },
  {
   "cell_type": "markdown",
   "metadata": {},
   "source": [
    "11.2 Data Visualization"
   ]
  },
  {
   "cell_type": "code",
   "execution_count": null,
   "metadata": {
    "vscode": {
     "languageId": "ruby"
    }
   },
   "outputs": [],
   "source": [
    "# Plot the market value trend using R\n",
    "plot(bayern_data$Date, bayern_data$Market_Value,\n",
    "     type=\"l\", col=\"blue\", xlab=\"Date\", ylab=\"Market Value\",\n",
    "     main=\"Market Value Trend of FC Bayern Munich\")\n"
   ]
  },
  {
   "cell_type": "markdown",
   "metadata": {},
   "source": [
    "Interpretation:\n",
    "\n",
    "This line graph provides a visual representation of how the market values of players have trended over time. Visual trends can indicate periods of significant increase or decrease in player values, correlating these changes with external events like transfers, performance peaks, or injuries. This helps in strategic decision-making regarding player contracts and investments."
   ]
  },
  {
   "cell_type": "markdown",
   "metadata": {},
   "source": [
    "# 12. Conclusion\n",
    "\n",
    "This comprehensive analysis has provided deep insights into FC Bayern Munich's performance and market dynamics for the 2023-2024 Bundesliga season. Through meticulous data collection, preparation, and exploratory analysis using a blend of Python, SQL, and R, we have successfully illuminated key trends and factors driving the club's success and challenges.\n",
    "\n",
    "Our exploratory data analysis revealed critical insights into player performance metrics and market value trends. By employing advanced visualization techniques, we were able to depict these trends dynamically, enhancing the interpretability and accessibility of our findings. The use of SQL facilitated direct extraction of performance metrics and market value data from databases, providing a robust foundation for our analytical tasks.\n",
    "\n",
    "The predictive modeling conducted as part of this study has enabled us to forecast future market values of players, offering valuable predictions that can aid in strategic planning and decision-making processes for player transfers and contract negotiations. These forecasts, while based on historical data, take into account various performance metrics, underscoring the importance of continuous data monitoring and model updating to maintain accuracy.\n",
    "\n",
    "The integration of R for statistical analysis and visualization further augmented our understanding, allowing for an in-depth exploration of data trends and anomalies. This was instrumental in enhancing our strategic insights, particularly in understanding the fluctuations in market values and their implications for the club's financial strategy.\n",
    "\n",
    "Overall, our analysis not only highlights the current state of FC Bayern Munich in the competitive landscape of the Bundesliga but also provides actionable insights that can help the club and its stakeholders make informed decisions. These decisions, driven by data, have the potential to optimize player performance, maximize financial outcomes, and sustain the club's dominance in German and international football.\n",
    "\n",
    "As we move forward, it is crucial for FC Bayern Munich to continue leveraging data analytics to stay ahead in the rapidly evolving world of football. By continuously refining our analysis techniques and embracing innovative analytics solutions, the club can ensure that it not only reacts to the current trends but also anticipates future developments, thereby securing long-term success and competitiveness."
   ]
  }
 ],
 "metadata": {
  "kernelspec": {
   "display_name": "Python 3",
   "language": "python",
   "name": "python3"
  },
  "language_info": {
   "codemirror_mode": {
    "name": "ipython",
    "version": 3
   },
   "file_extension": ".py",
   "mimetype": "text/x-python",
   "name": "python",
   "nbconvert_exporter": "python",
   "pygments_lexer": "ipython3",
   "version": "3.12.2"
  }
 },
 "nbformat": 4,
 "nbformat_minor": 2
}
