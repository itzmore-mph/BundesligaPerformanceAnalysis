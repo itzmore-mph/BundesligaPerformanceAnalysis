{
 "cells": [
  {
   "cell_type": "markdown",
   "id": "6f66d287-9baa-4e38-bdf3-daf3dc709724",
   "metadata": {},
   "source": [
    "# Analyzing Performance and Market Value of Top 5 German Bundesliga Clubs (Season 2023-2024)"
   ]
  },
  {
   "cell_type": "markdown",
   "id": "0e30e95f-f230-4b2c-ae80-7e2703851a96",
   "metadata": {},
   "source": [
    "This portfolio project provides an in-depth analysis of *FC Bayern Munich*'s performance and market dynamics during the Bundesliga 2023-2024 season. It leverages a combination of Python for data manipulation and analysis, SQL for data retrieval, and R for advanced statistical analysis, aiming to provide actionable insights that highlight key trends and drivers of success.\n",
    "Last Updated: April 14, 2024\n",
    "\n",
    "Author: Moritz Philipp Haaf, BSc (WU) MA\n",
    "\n",
    "Contact Information:\n",
    "\n",
    "Email:   moritz_haaf@outlook.com\n",
    "GitHub:  https://github.com/itzmore-mph/itzmore-mph-portfolio"
   ]
  },
  {
   "cell_type": "markdown",
   "id": "d2103e31-64a9-4979-b57c-e71e140e6199",
   "metadata": {},
   "source": [
    "# Initial Setup\n",
    "\n",
    "All necessary libraries are imported at the beginning of the notebook to ensure clarity, ease debugging, and optimize performance."
   ]
  },
  {
   "cell_type": "code",
   "execution_count": null,
   "id": "bbbe88b0-b067-42dd-bc58-5da65603177e",
   "metadata": {},
   "outputs": [],
   "source": [
    "# Importing data manipulation libraries\n",
    "import pandas as pd\n",
    "import numpy as np\n",
    "\n",
    "# Importing visualization libraries\n",
    "import seaborn as sns\n",
    "import matplotlib.pyplot as plt\n",
    "import plotly.express as px\n",
    "import plotly.graph_objects as go\n",
    "import plotly.io as pio\n",
    "\n",
    "# Configuring Plotly for Jupyter\n",
    "pio.renderers.default = 'notebook'\n",
    "\n",
    "# Importing machine learning and other necessary libraries\n",
    "from sklearn.linear_model import LinearRegression\n",
    "import requests\n",
    "from datetime import datetime\n"
   ]
  },
  {
   "cell_type": "markdown",
   "id": "61abf5fb-0cbe-4efc-ab56-739be73f3c4b",
   "metadata": {},
   "source": [
    "1. Data Collection\n",
    "\n",
    "Data was meticulously sourced from reputable platforms including the Bundesliga's official website, diverse Kaggle datasets, and sports APIs. This ensures a robust dataset that spans player statistics, match results, and market values."
   ]
  },
  {
   "cell_type": "code",
   "execution_count": null,
   "id": "63e0c89b-2012-427f-9f8e-62a09f351ef4",
   "metadata": {},
   "outputs": [],
   "source": [
    "# Function to fetch data from a specified URL\n",
    "def fetch_data(url):\n",
    "    \"\"\"Fetches data from the provided URL and returns a pandas DataFrame.\"\"\"\n",
    "    response = requests.get(url)\n",
    "    data = response.json()\n",
    "    return pd.DataFrame(data)\n",
    "\n",
    "# Example URL for Bundesliga data\n",
    "url = \"https://github.com/itzmore-mph/itzmore-mph-portfolio\"\n",
    "bayern_stats = fetch_data(url)\n"
   ]
  },
  {
   "cell_type": "markdown",
   "id": "0194f678-872f-476a-8ce4-cf096e50b097",
   "metadata": {},
   "source": [
    "2. Data Preparation\n",
    "   \n",
    "We applied various preprocessing steps to enhance data quality and usability. This included addressing missing values and standardizing the formats of date fields."
   ]
  },
  {
   "cell_type": "markdown",
   "id": "a40776f2-6937-4ae7-aa75-3dd3992cd0e0",
   "metadata": {},
   "source": [
    "# Handling missing values and standardizing date format\n",
    "bayern_stats.fillna(0, inplace=True)  # Replacing missing values with 0\n",
    "bayern_stats['date'] = pd.to_datetime(bayern_stats['date'])  # Ensuring 'date' column is in datetime format\n"
   ]
  },
  {
   "cell_type": "markdown",
   "id": "847b3433-a7e5-4a9b-957f-daf14a8a6a5b",
   "metadata": {},
   "source": [
    "3. Exploratory Data Analysis (EDA)\n",
    "   \n",
    "We conducted an exploratory data analysis using summary statistics and visualization techniques to explore player performance metrics and market value trends, and to identify relationships between variables."
   ]
  },
  {
   "cell_type": "code",
   "execution_count": null,
   "id": "382ce7b3-4e1e-4e80-abe3-fd61fa4924e9",
   "metadata": {},
   "outputs": [],
   "source": [
    "# Displaying summary statistics for the dataset\n",
    "print(bayern_stats.describe())\n",
    "\n",
    "# Generating a correlation heatmap\n",
    "sns.heatmap(bayern_stats.corr(), annot=True, cmap='coolwarm')\n",
    "plt.title('Correlation Matrix of Player Performance Metrics')\n",
    "plt.show()"
   ]
  },
  {
   "cell_type": "markdown",
   "id": "1cc9326b-3b3c-4c25-a7c4-f891e29a29f5",
   "metadata": {},
   "source": [
    "4. Performance Analysis\n",
    "   \n",
    "We performed a comparative analysis of wins, losses, and draws to assess the team's relative performance within the league."
   ]
  },
  {
   "cell_type": "code",
   "execution_count": null,
   "id": "3fb80f69-0ee8-4eda-a6a1-248b6b0c94e1",
   "metadata": {},
   "outputs": [],
   "source": [
    "# Visual comparison of team performance results\n",
    "sns.barplot(x='result', y='count', data=bayern_stats['result'].value_counts().reset_index())\n",
    "plt.title('Team Performance Overview')\n",
    "plt.xlabel('Match Result')\n",
    "plt.ylabel('Number of Matches')\n",
    "plt.show()\n"
   ]
  },
  {
   "cell_type": "code",
   "execution_count": null,
   "id": "468e5dc2-4269-44bc-be73-567843e6f246",
   "metadata": {},
   "outputs": [],
   "source": [
    "5. Market Value Analysis\n",
    "Interactive visualizations were created to understand the fluctuations in player market values over the season, analyzing how performance impacts these valuations."
   ]
  },
  {
   "cell_type": "code",
   "execution_count": null,
   "id": "3e79a5e1-2094-470a-81a3-2aa0dc2cef58",
   "metadata": {},
   "outputs": [],
   "source": [
    "# Creating a line plot to track market value trends over time\n",
    "fig = px.line(bayern_stats, x='date', y='market_value', title='Market Value Trend of Players')\n",
    "fig.show()"
   ]
  },
  {
   "cell_type": "markdown",
   "id": "446fb929-2a58-423a-959c-575d9e64a083",
   "metadata": {},
   "source": [
    "6. SQL Analysis\n",
    "   \n",
    "SQL is used to efficiently extract and analyze specific data segments from our extensive database."
   ]
  },
  {
   "cell_type": "code",
   "execution_count": null,
   "id": "b3d2176b-b2f5-4644-84a4-bdc6e2a2bc9d",
   "metadata": {},
   "outputs": [],
   "source": [
    "%%sql\n",
    "-- SQL query to fetch average goals per player for Bayer 04 bayern\n",
    "SELECT player_id, AVG(goals) AS average_goals\n",
    "FROM player_performance\n",
    "WHERE team_id = 'bayern'\n",
    "GROUP BY player_id\n",
    "ORDER BY average_goals DESC\n",
    "LIMIT 10;"
   ]
  },
  {
   "cell_type": "markdown",
   "id": "d44d9f47-e3cc-4ed6-910d-fc4a5b02641a",
   "metadata": {},
   "source": [
    "7. R Programming Analysis\n",
    "   \n",
    "In-depth statistical analysis is performed using R to complement the insights gained from Python. This section focuses on the relationship between goals scored and market values of the players."
   ]
  },
  {
   "cell_type": "code",
   "execution_count": null,
   "id": "22a6bd10-3296-4aec-8c25-38354538ab1e",
   "metadata": {},
   "outputs": [],
   "source": [
    "%load_ext rpy2.ipython\n",
    "\n",
    "%%R\n",
    "library(ggplot2)\n",
    "player_stats <- read.csv(\"https://github.com/itzmore-mph/itzmore-mph-portfolio/player_stats.csv\")\n",
    "ggplot(player_stats, aes(x=goals, y=market_value)) + geom_point() + geom_smooth(method=\"lm\") +\n",
    "    ggtitle(\"Relationship Between Goals and Market Value\")\n"
   ]
  },
  {
   "cell_type": "markdown",
   "id": "86f4a4a2-00e1-4d7a-a362-bbdc34be87bc",
   "metadata": {},
   "source": [
    "8. Predictive Modeling\n",
    "\n",
    "Predictive models are developed to forecast future market values based on players' historical performance data. These models are pivotal for strategic planning and investment decisions."
   ]
  },
  {
   "cell_type": "code",
   "execution_count": null,
   "id": "82b8b85b-7c6f-4823-8259-ccb16d8401dc",
   "metadata": {},
   "outputs": [],
   "source": [
    "# Preparing data for modeling\n",
    "X = bayern_stats[['goals', 'assists', 'minutes_played']]\n",
    "y = bayern_stats['market_value']\n",
    "\n",
    "# Building and fitting the linear regression model\n",
    "model = LinearRegression().fit(X, y)\n"
   ]
  },
  {
   "cell_type": "markdown",
   "id": "1b99da6d-b1a7-4d14-9962-8a6bfbdddfce",
   "metadata": {},
   "source": [
    "# Expected Goal Value (xG) Analysis\n",
    "<b>The Expected Goal (xG)</b> metric provides insights into both the quantity and quality of shots taken by a team or player. It estimates the likelihood that a given shot will result in a goal based on several factors such as shot angle, distance from goal, type of assist, and whether it was a headed shot, among others. This section will analyze Bayer 04 Leverkusen's xG throughout the season and compare it with actual goals scored to assess their scoring efficiency and performance under pressure.\n",
    "\n",
    "Data Preparation for xG Analysis\n",
    "First, ensure your dataset includes xG values for each shot or scoring opportunity. If the dataset does not include these, you might need to calculate or estimate them using available shot data, which can be complex without detailed shot information.\n"
   ]
  },
  {
   "cell_type": "code",
   "execution_count": null,
   "id": "26d2c15d-06ba-40a9-90b0-dbe133f7dc01",
   "metadata": {},
   "outputs": [],
   "source": [
    "# Assuming 'bayern_stats' has columns for 'xG' and 'goals'\n",
    "bayern_stats['xG'] = bayern_stats['shot_detail'].apply(calculate_xG)  # This is a placeholder function\n"
   ]
  },
  {
   "cell_type": "markdown",
   "id": "8db154b9-3894-4ccb-9916-607e16f2afb5",
   "metadata": {},
   "source": [
    "Exploratory Data Analysis of xG\n",
    "Visualize the distribution of xG in comparison to actual goals to understand the team's efficiency."
   ]
  },
  {
   "cell_type": "code",
   "execution_count": null,
   "id": "f672deaa-abe6-4a96-b418-27b26ffec6b6",
   "metadata": {},
   "outputs": [],
   "source": [
    "# Plotting xG vs. actual goals\n",
    "plt.figure(figsize=(10, 6))\n",
    "sns.scatterplot(x='xG', y='goals', data=bayern_stats)\n",
    "plt.title('xG vs. Actual Goals for Bayer 04 bayern')\n",
    "plt.xlabel('Expected Goals (xG)')\n",
    "plt.ylabel('Actual Goals')\n",
    "plt.show()"
   ]
  },
  {
   "cell_type": "markdown",
   "id": "747f1ab6-9d23-49f0-bc56-7957056d4c79",
   "metadata": {},
   "source": [
    "Comparative Analysis of xG and Actual Goals\n",
    "Calculate the total xG and actual goals over the season to evaluate performance."
   ]
  },
  {
   "cell_type": "code",
   "execution_count": null,
   "id": "85449b27-1e9b-46db-927c-dfd5ade122fa",
   "metadata": {},
   "outputs": [],
   "source": [
    "# Summing up xG and actual goals\n",
    "total_xG = bayern_stats['xG'].sum()\n",
    "total_goals = bayern_stats['goals'].sum()\n",
    "\n",
    "print(f\"Total Expected Goals (xG): {total_xG:.2f}\")\n",
    "print(f\"Total Actual Goals Scored: {total_goals}\")\n",
    "\n",
    "# Visualizing the cumulative xG and actual goals over the season\n",
    "bayern_stats['cumulative_xG'] = bayern_stats['xG'].cumsum()\n",
    "bayern_stats['cumulative_goals'] = bayern_stats['goals'].cumsum()\n",
    "\n",
    "plt.figure(figsize=(12, 7))\n",
    "plt.plot(bayern_stats['date'], bayern_stats['cumulative_xG'], label='Cumulative xG')\n",
    "plt.plot(bayern_stats['date'], bayern_stats['cumulative_goals'], label='Cumulative Goals')\n",
    "plt.legend()\n",
    "plt.title('Cumulative xG vs. Goals Over the Season')\n",
    "plt.xlabel('Date')\n",
    "plt.ylabel('Total xG/Goals')\n",
    "plt.show()\n"
   ]
  },
  {
   "cell_type": "markdown",
   "id": "0682b80a-8e54-4e8b-b6c4-cfd6b56fd281",
   "metadata": {},
   "source": [
    "9. Conclusion\n",
    "    \n",
    "This analysis provides a detailed and comprehensive overview of Bayer 04 Leverkusen's performance and market dynamics throughout the 2023-2024 Bundesliga season. Our findings furnish the club with actionable insights to enhance performance and maximize financial outcomes. Key takeaways include:\n",
    "\n",
    "Performance Insights: The correlation and comparative analyses help identify key performance metrics that directly impact the team's success.\n",
    "Market Value Dynamics: Visualization and predictive modeling elucidate how player performances influence their market value, guiding potential investment strategies.\n",
    "Strategic Recommendations: Based on predictive outcomes, strategic recommendations are provided to optimize player acquisitions and development efforts.\n",
    "Future Directions:\n",
    "\n",
    "Data Integration: Incorporating additional data sources such as fan engagement metrics and economic factors could provide a more holistic view of influences on market values.\n",
    "Advanced Analytics: Employing more sophisticated machine learning models and ensemble techniques could enhance the accuracy of predictions.\n",
    "Operational Efficiency: Streamlining data collection and processing workflows to enable real-time analytics could provide Bayer 04 Leverkusen with timely insights during the season.\n",
    "This portfolio project not only demonstrates a deep analytical capability across Python, SQL, and R but also showcases the ability to translate complex data into strategic insights, which is crucial for roles in data science, particularly within the sports analytics industry.\n",
    "\n",
    "From the xG analysis, we can draw conclusions about the team's offensive performance:\n",
    "\n",
    "Efficiency: If actual goals significantly exceed the xG, it suggests that the team has been more efficient than expected in converting chances.\n",
    "Potential Issues: Conversely, if xG substantially exceeds actual goals, it might indicate issues in finishing or an over-reliance on low-quality chances.\n",
    "Including xG analysis enriches the data-driven insights provided by the project, offering a more nuanced view of team performance that traditional metrics might overlook. This aspect of the analysis is particularly appealing to potential employers or collaborators with an interest in advanced sports analytics.\n"
   ]
  }
 ],
 "metadata": {
  "kernelspec": {
   "display_name": "Python 3 (ipykernel)",
   "language": "python",
   "name": "python3"
  },
  "language_info": {
   "codemirror_mode": {
    "name": "ipython",
    "version": 3
   },
   "file_extension": ".py",
   "mimetype": "text/x-python",
   "name": "python",
   "nbconvert_exporter": "python",
   "pygments_lexer": "ipython3",
   "version": "3.11.7"
  },
  "widgets": {
   "application/vnd.jupyter.widget-state+json": {
    "state": {},
    "version_major": 2,
    "version_minor": 0
   }
  }
 },
 "nbformat": 4,
 "nbformat_minor": 5
}
