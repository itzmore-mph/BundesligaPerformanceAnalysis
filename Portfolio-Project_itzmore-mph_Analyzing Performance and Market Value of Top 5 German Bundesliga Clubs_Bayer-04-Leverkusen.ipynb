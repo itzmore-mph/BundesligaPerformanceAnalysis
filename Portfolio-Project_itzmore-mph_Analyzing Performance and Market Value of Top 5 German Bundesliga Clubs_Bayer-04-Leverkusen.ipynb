{
 "cells": [
  {
   "cell_type": "markdown",
   "metadata": {},
   "source": [
    "# Project Title: Analyzing Performance and Market Value of Top 5 German Bundesliga Clubs (Season 2023-2024)\n",
    "\n",
    "# 1. Introduction\n",
    "\n",
    "This portfolio project, conducted for itzmore | Data Empowers, focuses on \n",
    "\n",
    "*Bayer 04 Leverkusen*'s \n",
    "\n",
    "performance and market dynamics throughout the 2023-2024 Bundesliga season. Utilizing a combination of Python, SQL, and R, this analysis aims to deliver actionable insights for the club and its stakeholders, identifying key trends, drivers of success, and potential future outcomes.\n",
    "\n",
    "Last Updated: 2024-04-14 by:\n",
    "\n",
    "Moritz Philipp Haaf, BSc (WU) MA - Founder/CEO of itzmore | Data Empowers e.U.\n",
    "\n",
    "*Contact:*\n",
    "Mail:       moritz.haaf@itzmore.net\n",
    "\n",
    "Tel.:       +43 664 404 38 64\n",
    "\n",
    "Website:    https://itzmore.net\n",
    "\n",
    "GitHub:     https://github.com/itzmore-mph"
   ]
  },
  {
   "cell_type": "markdown",
   "metadata": {},
   "source": [
    "# 2. Methodology\n",
    "\n",
    "2.1 Data Collection:\n",
    "The data was sourced from the Bundesliga official website, Kaggle datasets, and sports APIs, capturing player statistics, match results, and market values.\n",
    "\n",
    "2.2 Data Preparation:\n",
    "The raw data was thoroughly cleaned and preprocessed to ensure consistency and accuracy. This stage involved handling missing values, converting data types, and merging datasets.\n",
    "\n",
    "2.3 Exploratory Data Analysis (EDA):\n",
    "We utilized summary statistics and visualization techniques to examine player performance metrics and market value trends, conducting correlation analysis to pinpoint relationships between variables.\n",
    "\n",
    "2.4 Performance Analysis:\n",
    "We performed a comparative analysis of wins, losses, and draws to evaluate Bayer 04 Leverkusen's performance against league competitors.\n",
    "\n",
    "2.5 Market Value Analysis:\n",
    "Market value changes were visualized to understand player valuation dynamics over the season, analyzing the impact of various factors such as player performance and positions.\n",
    "\n",
    "2.6 Predictive Modeling:\n",
    "Predictive models were developed to forecast future market values of players, using historical data as a base for our projections.\n",
    "\n",
    "2.7 SQL Analysis:\n",
    "SQL queries were executed to efficiently extract specific performance and market value data from our databases.\n",
    "\n",
    "2.8 R Programming Analysis:\n",
    "We applied R for detailed statistical analysis and data visualization to supplement insights gained from Python and SQL.\n",
    "\n",
    "2.9 Conclusion:\n",
    "Our methodology combined various analytical techniques to provide a comprehensive overview of Bayer 04 Leverkusen's performance and market dynamics, offering actionable insights for strategic decision-making.\n",
    "\n"
   ]
  },
  {
   "cell_type": "markdown",
   "metadata": {},
   "source": [
    "# 3. Data Collection and Preparation\n",
    "\n",
    "We meticulously collected data from reliable sources including the Bundesliga official website and reputable Kaggle datasets. The data was rigorously cleaned and preprocessed to eliminate inconsistencies and ensure accuracy.\n",
    "\n",
    "3.1 Importing Necessary Libraries"
   ]
  },
  {
   "cell_type": "code",
   "execution_count": 1,
   "metadata": {},
   "outputs": [
    {
     "ename": "ModuleNotFoundError",
     "evalue": "No module named 'matplotlib'",
     "output_type": "error",
     "traceback": [
      "\u001b[0;31m---------------------------------------------------------------------------\u001b[0m",
      "\u001b[0;31mModuleNotFoundError\u001b[0m                       Traceback (most recent call last)",
      "Cell \u001b[0;32mIn[1], line 4\u001b[0m\n\u001b[1;32m      2\u001b[0m \u001b[38;5;28;01mimport\u001b[39;00m \u001b[38;5;21;01mpandas\u001b[39;00m \u001b[38;5;28;01mas\u001b[39;00m \u001b[38;5;21;01mpd\u001b[39;00m\n\u001b[1;32m      3\u001b[0m \u001b[38;5;28;01mimport\u001b[39;00m \u001b[38;5;21;01mnumpy\u001b[39;00m \u001b[38;5;28;01mas\u001b[39;00m \u001b[38;5;21;01mnp\u001b[39;00m\n\u001b[0;32m----> 4\u001b[0m \u001b[38;5;28;01mimport\u001b[39;00m \u001b[38;5;21;01mmatplotlib\u001b[39;00m\u001b[38;5;21;01m.\u001b[39;00m\u001b[38;5;21;01mpyplot\u001b[39;00m \u001b[38;5;28;01mas\u001b[39;00m \u001b[38;5;21;01mplt\u001b[39;00m\n\u001b[1;32m      5\u001b[0m \u001b[38;5;28;01mimport\u001b[39;00m \u001b[38;5;21;01mseaborn\u001b[39;00m \u001b[38;5;28;01mas\u001b[39;00m \u001b[38;5;21;01msns\u001b[39;00m\n\u001b[1;32m      6\u001b[0m \u001b[38;5;28;01mimport\u001b[39;00m \u001b[38;5;21;01mplotly\u001b[39;00m\u001b[38;5;21;01m.\u001b[39;00m\u001b[38;5;21;01mexpress\u001b[39;00m \u001b[38;5;28;01mas\u001b[39;00m \u001b[38;5;21;01mpx\u001b[39;00m\n",
      "\u001b[0;31mModuleNotFoundError\u001b[0m: No module named 'matplotlib'"
     ]
    }
   ],
   "source": [
    "# Importing necessary libraries\n",
    "import pandas as pd\n",
    "import numpy as np\n",
    "import matplotlib.pyplot as plt\n",
    "import seaborn as sns\n",
    "import plotly.express as px\n",
    "from plotly.subplots import make_subplots\n",
    "import plotly.graph_objects as go\n",
    "import plotly.io as pio\n",
    "from datetime import datetime\n",
    "\n",
    "\n",
    "\n",
    "\n"
   ]
  },
  {
   "cell_type": "markdown",
   "metadata": {},
   "source": [
    "3.2 Setting Default Renderer for Plotly"
   ]
  },
  {
   "cell_type": "code",
   "execution_count": null,
   "metadata": {},
   "outputs": [],
   "source": [
    "# Setting default renderer for Plotly\n",
    "pio.renderers.default = 'notebook'"
   ]
  },
  {
   "cell_type": "markdown",
   "metadata": {},
   "source": [
    "3.3 Loading CSV Files"
   ]
  },
  {
   "cell_type": "code",
   "execution_count": null,
   "metadata": {},
   "outputs": [],
   "source": [
    "# File path to CSV files\n",
    "file_path = \"itzmore-mph/portfolio-github-mph/Football-Analysis_German-Bundesliga/\"\n",
    "\n",
    "# List of data files loaded\n",
    "appearances = pd.read_csv(file_path + \"appearances.csv\")\n",
    "club_games = pd.read_csv(file_path + \"club_games.csv\")\n",
    "clubs = pd.read_csv(file_path + \"clubs.csv\")\n",
    "competitions = pd.read_csv(file_path + \"competitions.csv\")\n",
    "game_events = pd.read_csv(file_path + \"game_events.csv\")\n",
    "game_lineups = pd.read_csv(file_path + \"game_lineups.csv\")\n",
    "games = pd.read_csv(file_path + \"games.csv\")\n",
    "player_valuations = pd.read_csv(file_path + \"player_valuations.csv\")\n",
    "players = pd.read_csv(file_path + \"players.csv\")"
   ]
  },
  {
   "cell_type": "markdown",
   "metadata": {},
   "source": [
    "# 4. Enhanced Data Overview\n",
    "\n",
    "4.1 Detailed Dataset Descriptions"
   ]
  },
  {
   "cell_type": "code",
   "execution_count": null,
   "metadata": {},
   "outputs": [],
   "source": [
    "print(\"Detailed description of the 'players' dataset:\")\n",
    "players.info()\n",
    "print(players.describe())\n",
    "\n"
   ]
  },
  {
   "cell_type": "markdown",
   "metadata": {},
   "source": [
    "# 5. Dynamic Team Analysis Setup\n",
    "\n",
    "5.1 Selecting Team and Season for Detailed Analysis"
   ]
  },
  {
   "cell_type": "code",
   "execution_count": null,
   "metadata": {},
   "outputs": [],
   "source": [
    "team_name = 'Leverkusen'  # Parameterized for user selection\n",
    "season_year = 2023\n",
    "\n",
    "selected_team_data = filter_by_team_and_season(data['players'], team_name, season_year)\n",
    "print(f\"Analysis for {team_name} in the {season_year}/{season_year+1} season:\")\n"
   ]
  },
  {
   "cell_type": "markdown",
   "metadata": {},
   "source": [
    "# 6. Exploratory Data Analysis (EDA)\n",
    "\n",
    "6.1 Summary Statistics"
   ]
  },
  {
   "cell_type": "code",
   "execution_count": null,
   "metadata": {},
   "outputs": [],
   "source": [
    "summary_statistics = player_valuations.describe()\n",
    "print(summary_statistics)\n"
   ]
  },
  {
   "cell_type": "markdown",
   "metadata": {},
   "source": [
    "6.2 Visualization: Interactive Market Value Trend\n",
    "\n",
    "Using Plotly for dynamic, interactive visualizations:"
   ]
  },
  {
   "cell_type": "code",
   "execution_count": null,
   "metadata": {},
   "outputs": [],
   "source": [
    "fig = px.line(selected_team_data, x='date', y='market_value_eur', title=f'Market Value Trends for {team_name}')\n",
    "fig.show()\n",
    "\n"
   ]
  },
  {
   "cell_type": "markdown",
   "metadata": {},
   "source": [
    "6.3 Correlation Analysis\n",
    "\n",
    "Visualizing the correlation matrix to identify relationships:"
   ]
  },
  {
   "cell_type": "code",
   "execution_count": null,
   "metadata": {},
   "outputs": [],
   "source": [
    "correlation_matrix = player_valuations.corr()\n",
    "sns.heatmap(correlation_matrix, annot=True, cmap='coolwarm', fmt=\".2f\")\n",
    "plt.title('Correlation Matrix')\n",
    "plt.show()\n",
    "\n"
   ]
  },
  {
   "cell_type": "markdown",
   "metadata": {},
   "source": [
    "Productivity and Discipline Metrics"
   ]
  },
  {
   "cell_type": "code",
   "execution_count": null,
   "metadata": {},
   "outputs": [],
   "source": [
    "# Calculating and visualizing productivity and discipline\n",
    "players['productivity'] = players['goals'] + players['assists']\n",
    "players['discipline_score'] = players['yellow_cards'] + 2 * players['red_cards']\n",
    "\n",
    "fig = px.scatter(players, x='productivity', y='discipline_score', color='age',\n",
    "                 size='market_value_eur', hover_data=['player_name'],\n",
    "                 title='Player Productivity vs. Discipline')\n",
    "fig.show()\n"
   ]
  },
  {
   "cell_type": "markdown",
   "metadata": {},
   "source": [
    "Interpretation:\n",
    "\n",
    "These analyses provide insights into the distribution and relationships of player performance metrics and market values. The interactive visualizations facilitate a deeper understanding of the data, highlighting trends and outliers that are critical for strategic decisions."
   ]
  },
  {
   "cell_type": "markdown",
   "metadata": {},
   "source": [
    "# 7. Performance Analysis\n",
    "\n",
    "7.1 Comparative Analysis of Key Performance Indicators\n",
    "\n",
    "We conducted a detailed comparison of key performance indicators to gauge Bayer 04 Leverkusen's standings in the league.\n",
    "\n",
    "Using bar plots to visualize performance metrics:"
   ]
  },
  {
   "cell_type": "code",
   "execution_count": null,
   "metadata": {},
   "outputs": [],
   "source": [
    "sns.barplot(x=['Wins', 'Losses', 'Draws'], y=[wins, losses, draws], palette='viridis')\n",
    "plt.title('Performance Metrics of Bayer 04 Leverkusen')\n",
    "plt.show()\n",
    "\n"
   ]
  },
  {
   "cell_type": "markdown",
   "metadata": {},
   "source": [
    "Interpretation:\n",
    "\n",
    "This analysis helps us understand the club's competitive performance, identifying strengths and areas for improvement relative to league rivals."
   ]
  },
  {
   "cell_type": "markdown",
   "metadata": {},
   "source": [
    "7.2 Match Results Visualization"
   ]
  },
  {
   "cell_type": "code",
   "execution_count": null,
   "metadata": {},
   "outputs": [],
   "source": [
    "# Python code\n",
    "plt.figure(figsize=(10, 6))\n",
    "sns.barplot(x=['Wins', 'Losses', 'Draws'], y=[wins, losses, draws], palette='viridis')\n",
    "plt.xlabel('Performance Metrics')\n",
    "plt.ylabel('Count')\n",
    "plt.title('Performance Metrics of Bayer 04 Leverkusen')\n",
    "plt.show()\n"
   ]
  },
  {
   "cell_type": "markdown",
   "metadata": {},
   "source": [
    "Interpretation:\n",
    "Analyzing total matches, wins, losses, draws, and win percentage provides insights into the club's performance in the Bundesliga.\n",
    "Comparing performance metrics with other clubs helps identify strengths and weaknesses."
   ]
  },
  {
   "cell_type": "markdown",
   "metadata": {},
   "source": [
    "# 8. Market Value Analysis\n",
    "\n",
    "8.1 Visualization of Market Value Changes Over Time\n",
    "\n",
    "We analyzed fluctuations in player market values to identify trends and influencing factors.\n",
    "\n",
    "Visual consistency in line plots:"
   ]
  },
  {
   "cell_type": "code",
   "execution_count": null,
   "metadata": {},
   "outputs": [],
   "source": [
    "sns.lineplot(x='Date', y='Market_Value', data=leverkusen_valuations, color='b')\n",
    "plt.title('Market Value Trend of Bayer 04 Leverkusen')\n",
    "plt.xticks(rotation=45)\n",
    "plt.grid(True)\n",
    "plt.show()"
   ]
  },
  {
   "cell_type": "markdown",
   "metadata": {},
   "source": [
    "8.2 Factors Influencing Market Value Fluctuation\n",
    "\n",
    "Scatter plot to explore the relationship between performance metrics and market values:"
   ]
  },
  {
   "cell_type": "code",
   "execution_count": null,
   "metadata": {},
   "outputs": [],
   "source": [
    "sns.scatterplot(x='Performance_Metric', y='Market_Value', data=leverkusen_valuations, hue='Player_Position')\n",
    "plt.title('Factors Influencing Market Value Fluctuations')\n",
    "plt.show()\n"
   ]
  },
  {
   "cell_type": "markdown",
   "metadata": {},
   "source": [
    "Interpretation:\n",
    "\n",
    "Understanding market value trends is crucial for financial planning and player investment strategies. This analysis aids in identifying potential opportunities for optimal player acquisition and sales."
   ]
  },
  {
   "cell_type": "markdown",
   "metadata": {},
   "source": [
    "# 9. Predictive Modeling\n",
    "\n",
    "9.1 Model Evaluation\n",
    "\n",
    "Predictive modeling was used to forecast future market values, providing a basis for strategic planning.\n",
    "\n",
    "Plotting actual vs. predicted values to evaluate model performance:"
   ]
  },
  {
   "cell_type": "code",
   "execution_count": null,
   "metadata": {},
   "outputs": [],
   "source": [
    "plt.plot(y_test, label='Actual')\n",
    "plt.plot(y_pred, label='Predicted')\n",
    "plt.title('Actual vs. Predicted Market Value')\n",
    "plt.legend()\n",
    "plt.show()\n"
   ]
  },
  {
   "cell_type": "markdown",
   "metadata": {},
   "source": [
    "9.2 Forecasting Future Market Values\n",
    "\n",
    "Forecasting future market values to aid strategic planning:"
   ]
  },
  {
   "cell_type": "code",
   "execution_count": null,
   "metadata": {},
   "outputs": [],
   "source": [
    "plt.plot(leverkusen_valuations['Date'], leverkusen_valuations['Market_Value'], label='Actual')\n",
    "plt.plot(future_dates, future_forecast, label='Forecast')\n",
    "plt.title('Forecasting Future Market Values of Bayer 04 Leverkusen')\n",
    "plt.legend()\n",
    "plt.grid(True)\n",
    "plt.show()"
   ]
  },
  {
   "cell_type": "markdown",
   "metadata": {},
   "source": [
    "Interpretation:\n",
    "\n",
    "These models offer predictions that are vital for preparing for future market conditions, helping the club make informed decisions regarding player contracts and transfers."
   ]
  },
  {
   "cell_type": "markdown",
   "metadata": {},
   "source": [
    "# 10. SQL Analysis\n",
    "\n",
    "This section leverages SQL to extract specific performance metrics and market value data, providing direct insights from the database.\n",
    "\n",
    "10.1 Querying Performance Metrics:"
   ]
  },
  {
   "cell_type": "code",
   "execution_count": null,
   "metadata": {
    "vscode": {
     "languageId": "sql"
    }
   },
   "outputs": [],
   "source": [
    "-- Extract performance metrics for Bayer 04 Leverkusen\n",
    "SELECT AVG(goals_scored) AS avg_goals_scored FROM matches WHERE team = 'Bayer 04 Leverkusen';\n",
    "\n"
   ]
  },
  {
   "cell_type": "markdown",
   "metadata": {
    "vscode": {
     "languageId": "sql"
    }
   },
   "source": [
    "10.2 Extracting Market Value Data"
   ]
  },
  {
   "cell_type": "code",
   "execution_count": null,
   "metadata": {
    "vscode": {
     "languageId": "sql"
    }
   },
   "outputs": [],
   "source": [
    "-- Retrieve date and market value for players from Bayer 04 Leverkusen\n",
    "SELECT\n",
    "    Date,\n",
    "    Market_Value\n",
    "FROM\n",
    "    player_valuations\n",
    "WHERE\n",
    "    Club = 'Bayer 04 Leverkusen';\n"
   ]
  },
  {
   "cell_type": "markdown",
   "metadata": {},
   "source": [
    "Interpretation:\n",
    "\n",
    "Efficient data extraction via SQL supports targeted analysis of performance metrics, providing a quick overview and detailed breakdowns as needed."
   ]
  },
  {
   "cell_type": "markdown",
   "metadata": {},
   "source": [
    "# 11. R Programming Analysis\n",
    "\n",
    "Statistical analysis and visualization in R complemented our findings, providing additional depth:\n",
    "\n",
    "11.1 Statistical Analysis"
   ]
  },
  {
   "cell_type": "code",
   "execution_count": null,
   "metadata": {
    "vscode": {
     "languageId": "ruby"
    }
   },
   "outputs": [],
   "source": [
    "# Load the Bayer 04 Leverkusen data\n",
    "leverkusen_data <- read.csv(\"leverkusen_data.csv\")\n",
    "\n",
    "# Perform a summary of key statistics\n",
    "summary(leverkusen_data)\n"
   ]
  },
  {
   "cell_type": "code",
   "execution_count": null,
   "metadata": {
    "vscode": {
     "languageId": "ruby"
    }
   },
   "outputs": [],
   "source": []
  },
  {
   "cell_type": "markdown",
   "metadata": {},
   "source": [
    "Interpretation:\n",
    "\n",
    "Using R for statistical analysis helps in uncovering deeper insights, such as distribution characteristics and anomalies within the data, enhancing the overall strategic understanding."
   ]
  },
  {
   "cell_type": "markdown",
   "metadata": {},
   "source": []
  },
  {
   "cell_type": "markdown",
   "metadata": {},
   "source": [
    "11.2 Data Visualization"
   ]
  },
  {
   "cell_type": "code",
   "execution_count": null,
   "metadata": {
    "vscode": {
     "languageId": "ruby"
    }
   },
   "outputs": [],
   "source": [
    "# Plot the market value trend using R\n",
    "plot(leverkusen_data$Date, bayer_data$Market_Value,\n",
    "     type=\"l\", col=\"blue\", xlab=\"Date\", ylab=\"Market Value\",\n",
    "     main=\"Market Value Trend of Bayer 04 Leverkusen\")\n"
   ]
  },
  {
   "cell_type": "markdown",
   "metadata": {},
   "source": [
    "Interpretation:\n",
    "\n",
    "This line graph provides a visual representation of how the market values of players have trended over time. Visual trends can indicate periods of significant increase or decrease in player values, correlating these changes with external events like transfers, performance peaks, or injuries. This helps in strategic decision-making regarding player contracts and investments."
   ]
  },
  {
   "cell_type": "markdown",
   "metadata": {},
   "source": [
    "# 12. Conclusion\n",
    "\n",
    "This extensive analysis offers a comprehensive view of Bayer 04 Leverkusen's performance and market dynamics throughout the 2023-2024 Bundesliga season. Our approach combined advanced data analytics techniques using Python, SQL, and R to highlight significant patterns and determinants of the club's operational successes and areas needing improvement.\n",
    "\n",
    "The process began with rigorous data collection and preprocessing, ensuring a robust basis for our analysis. Our exploratory efforts unveiled intricate details about player performance metrics and their market values, revealing how these elements interact within the broader competitive framework of the league. Advanced visualization tools were instrumental in these discoveries, offering clear, dynamic representations of our data that enhanced both the accessibility and the depth of our analysis.\n",
    "\n",
    "SQL queries played a pivotal role in streamlining the extraction of precise performance metrics and market valuation data, enabling us to build a detailed quantitative foundation for further analysis. On the predictive front, our modeling efforts provided forecasts of player market values, which are essential for strategic planning. These predictions are vital for optimizing transfer and contract negotiation strategies, helping the club anticipate financial outlays and investment returns.\n",
    "\n",
    "Moreover, employing R for detailed statistical analysis and visualization enriched our understanding of underlying trends and anomalies. This analytical depth was crucial for strategic insight, particularly in identifying and understanding the nuances of market value fluctuations and their financial implications for Bayer 04 Leverkusen.\n",
    "\n",
    "Our findings do more than just summarize the club's current standings within the Bundesliga; they equip Bayer 04 Leverkusen and its stakeholders with actionable insights, facilitating informed decisions that optimize performance and financial outcomes. The analysis clearly demonstrates the power of data-driven strategies in enhancing competitive edge and operational efficiency in the realm of professional football.\n",
    "\n",
    "Looking ahead, it is imperative for Bayer 04 Leverkusen to continue embracing and advancing their data analytics capabilities. The dynamic nature of football, with its ever-evolving strategies and technologies, demands a proactive and predictive approach to management. By further refining their analytical methodologies and integrating cutting-edge technologies, Bayer 04 Leverkusen can not only adapt to emerging trends but also shape them, securing a sustainable and successful future in both domestic and international arenas.."
   ]
  }
 ],
 "metadata": {
  "kernelspec": {
   "display_name": "Python 3",
   "language": "python",
   "name": "python3"
  },
  "language_info": {
   "codemirror_mode": {
    "name": "ipython",
    "version": 3
   },
   "file_extension": ".py",
   "mimetype": "text/x-python",
   "name": "python",
   "nbconvert_exporter": "python",
   "pygments_lexer": "ipython3",
   "version": "3.12.2"
  }
 },
 "nbformat": 4,
 "nbformat_minor": 2
}
